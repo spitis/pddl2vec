{
 "cells": [
  {
   "cell_type": "code",
   "execution_count": 1,
   "metadata": {},
   "outputs": [
    {
     "name": "stderr",
     "output_type": "stream",
     "text": [
      "/h/spitis/anaconda3/lib/python3.6/site-packages/h5py/__init__.py:36: FutureWarning: Conversion of the second argument of issubdtype from `float` to `np.floating` is deprecated. In future, it will be treated as `np.float64 == np.dtype(float).type`.\n",
      "  from ._conv import register_converters as _register_converters\n"
     ]
    }
   ],
   "source": [
    "import tensorflow as tf\n",
    "import numpy as np\n",
    "import gym\n",
    "import copy\n",
    "\n",
    "from itertools import chain\n",
    "\n",
    "from pddl2env import PddlBasicEnv\n",
    "from stable_baselines.base_models_sp import BaseRLModel, SetVerbosity\n",
    "import stable_baselines.tf_util as tf_util\n",
    "from stable_baselines.replay_buffer import ReplayBuffer, EpisodicBuffer, her_future, HerFutureAchievedPastActual"
   ]
  },
  {
   "cell_type": "code",
   "execution_count": 2,
   "metadata": {},
   "outputs": [],
   "source": [
    "env = PddlBasicEnv(\n",
    "      domain='pddl_files/modded_transport/domain.pddl',\n",
    "      instance='pddl_files/modded_transport/ptest.pddl')"
   ]
  },
  {
   "cell_type": "code",
   "execution_count": 8,
   "metadata": {},
   "outputs": [
    {
     "data": {
      "text/plain": [
       "array([ 2,  4,  7, 11], dtype=int32)"
      ]
     },
     "execution_count": 8,
     "metadata": {},
     "output_type": "execute_result"
    }
   ],
   "source": [
    "env.reset()"
   ]
  },
  {
   "cell_type": "code",
   "execution_count": 14,
   "metadata": {},
   "outputs": [],
   "source": [
    "def random_trajectory(env):\n",
    "  state = env.reset()\n",
    "  for i in range (10000):\n",
    "    actions = env.get_actions()\n",
    "    action = actions[np.random.choice(len(actions))]\n",
    "    next_state, reward, done, _ = env.step(action)\n",
    "    print(state, next_state, reward, done)\n",
    "    if done: \n",
    "      break\n",
    "    state = next_state    "
   ]
  },
  {
   "cell_type": "code",
   "execution_count": 18,
   "metadata": {},
   "outputs": [
    {
     "data": {
      "text/plain": [
       "{'(at package-1 city-loc-1)',\n",
       " '(at package-1 city-loc-2)',\n",
       " '(at package-1 city-loc-3)',\n",
       " '(at package-1 truck-1)',\n",
       " '(at package-2 city-loc-1)',\n",
       " '(at package-2 city-loc-2)',\n",
       " '(at package-2 city-loc-3)',\n",
       " '(at package-2 truck-1)',\n",
       " '(at truck-1 city-loc-1)',\n",
       " '(at truck-1 city-loc-2)',\n",
       " '(at truck-1 city-loc-3)',\n",
       " '(capacity truck-1 capacity-0)',\n",
       " '(capacity truck-1 capacity-1)',\n",
       " '(capacity truck-1 capacity-2)',\n",
       " '(capacity truck-1 capacity-3)',\n",
       " '(capacity truck-1 capacity-4)'}"
      ]
     },
     "execution_count": 18,
     "metadata": {},
     "output_type": "execute_result"
    }
   ],
   "source": [
    "env.task.facts"
   ]
  },
  {
   "cell_type": "code",
   "execution_count": null,
   "metadata": {},
   "outputs": [],
   "source": []
  },
  {
   "cell_type": "code",
   "execution_count": 17,
   "metadata": {},
   "outputs": [
    {
     "name": "stdout",
     "output_type": "stream",
     "text": [
      "[ 2  4  7 11] [ 2  7  8 11] -1 0\n",
      "[ 2  7  8 11] [ 2  4  7 11] -1 0\n",
      "[ 2  4  7 11] [ 1  2  7 11] -1 0\n",
      "[ 1  2  7 11] [ 2  4  7 11] -1 0\n",
      "[ 2  4  7 11] [ 2  7  8 11] -1 0\n",
      "[ 2  7  8 11] [ 2  4  7 11] -1 0\n",
      "[ 2  4  7 11] [ 2  7  8 11] -1 0\n",
      "[ 2  7  8 11] [ 2  4  7 11] -1 0\n",
      "[ 2  4  7 11] [ 1  2  7 11] -1 0\n",
      "[ 1  2  7 11] [ 1  2  6 14] -1 0\n",
      "[ 1  2  6 14] [ 1  2  7 11] -1 0\n",
      "[ 1  2  7 11] [ 1  2  6 14] -1 0\n",
      "[ 1  2  6 14] [ 2  4  6 14] -1 0\n",
      "[ 2  4  6 14] [ 2  6  8 14] -1 0\n",
      "[ 2  6  8 14] [ 2  4  6 14] -1 0\n",
      "[ 2  4  6 14] [ 1  2  6 14] -1 0\n",
      "[ 1  2  6 14] [ 2  4  6 14] -1 0\n",
      "[ 2  4  6 14] [ 2  6  8 14] -1 0\n",
      "[ 2  6  8 14] [ 2  5  8 11] -1 0\n",
      "[ 2  5  8 11] [ 2  6  8 14] -1 0\n",
      "[ 2  6  8 14] [ 2  5  8 11] -1 0\n",
      "[ 2  5  8 11] [ 0  5  8 14] -1 0\n",
      "[ 0  5  8 14] [ 0  4  5 14] -1 0\n",
      "[ 0  4  5 14] [ 0  1  5 14] -1 0\n",
      "[ 0  1  5 14] [ 0  4  5 14] -1 0\n",
      "[ 0  4  5 14] [ 0  5  8 14] -1 0\n",
      "[ 0  5  8 14] [ 0  4  5 14] -1 0\n",
      "[ 0  4  5 14] [ 0  5  8 14] -1 0\n",
      "[ 0  5  8 14] [0 3 6 8] -1 0\n",
      "[0 3 6 8] [0 3 4 6] -1 0\n",
      "[0 3 4 6] [0 1 3 6] -1 0\n",
      "[0 1 3 6] [0 3 4 6] -1 0\n",
      "[0 3 4 6] [0 3 6 8] -1 0\n",
      "[0 3 6 8] [ 0  5  8 14] -1 0\n",
      "[ 0  5  8 14] [ 2  5  8 11] -1 0\n",
      "[ 2  5  8 11] [ 2  4  5 11] -1 0\n",
      "[ 2  4  5 11] [ 1  2  5 11] -1 0\n",
      "[ 1  2  5 11] [ 2  4  5 11] -1 0\n",
      "[ 2  4  5 11] [ 1  2  5 11] -1 0\n",
      "[ 1  2  5 11] [ 2  4  5 11] -1 0\n",
      "[ 2  4  5 11] [ 1  2  5 11] -1 0\n",
      "[ 1  2  5 11] [ 2  4  5 11] -1 0\n",
      "[ 2  4  5 11] [ 1  2  5 11] -1 0\n",
      "[ 1  2  5 11] [ 2  4  5 11] -1 0\n",
      "[ 2  4  5 11] [ 1  2  5 11] -1 0\n",
      "[ 1  2  5 11] [ 2  4  5 11] -1 0\n",
      "[ 2  4  5 11] [ 1  2  5 11] -1 0\n",
      "[ 1  2  5 11] [ 2  4  5 11] -1 0\n",
      "[ 2  4  5 11] [ 2  5  8 11] -1 0\n",
      "[ 2  5  8 11] [ 2  4  5 11] -1 0\n",
      "[ 2  4  5 11] [ 1  2  5 11] -1 0\n",
      "[ 1  2  5 11] [ 2  4  5 11] -1 0\n",
      "[ 2  4  5 11] [ 2  5  8 11] -1 0\n",
      "[ 2  5  8 11] [ 0  5  8 14] -1 0\n",
      "[ 0  5  8 14] [ 0  4  5 14] -1 0\n",
      "[ 0  4  5 14] [ 0  1  5 14] -1 0\n",
      "[ 0  1  5 14] [ 0  4  5 14] -1 0\n",
      "[ 0  4  5 14] [ 0  1  5 14] -1 0\n",
      "[ 0  1  5 14] [ 1  5 11 15] -1 0\n",
      "[ 1  5 11 15] [ 4  5 11 15] -1 0\n",
      "[ 4  5 11 15] [ 5  8 11 15] -1 0\n",
      "[ 5  8 11 15] [ 4  5 11 15] -1 0\n",
      "[ 4  5 11 15] [ 1  5 11 15] -1 0\n",
      "[ 1  5 11 15] [ 0  1  5 14] -1 0\n",
      "[ 0  1  5 14] [ 0  4  5 14] -1 0\n",
      "[ 0  4  5 14] [ 0  5  8 14] -1 0\n",
      "[ 0  5  8 14] [ 0  4  5 14] -1 0\n",
      "[ 0  4  5 14] [ 4  5  9 11] -1 0\n",
      "[ 4  5  9 11] [ 0  4  5 14] -1 0\n",
      "[ 0  4  5 14] [ 0  1  5 14] -1 0\n",
      "[ 0  1  5 14] [ 1  5 11 15] -1 0\n",
      "[ 1  5 11 15] [ 0  1  5 14] -1 0\n",
      "[ 0  1  5 14] [ 1  5 11 15] -1 0\n",
      "[ 1  5 11 15] [ 0  1  5 14] -1 0\n",
      "[ 0  1  5 14] [ 1  5 11 15] -1 0\n",
      "[ 1  5 11 15] [ 0  1  5 14] -1 0\n",
      "[ 0  1  5 14] [ 0  4  5 14] -1 0\n",
      "[ 0  4  5 14] [ 0  5  8 14] -1 0\n",
      "[ 0  5  8 14] [ 2  5  8 11] -1 0\n",
      "[ 2  5  8 11] [ 2  4  5 11] -1 0\n",
      "[ 2  4  5 11] [ 1  2  5 11] -1 0\n",
      "[ 1  2  5 11] [ 2  4  5 11] -1 0\n",
      "[ 2  4  5 11] [ 2  5  8 11] -1 0\n",
      "[ 2  5  8 11] [ 2  6  8 14] -1 0\n",
      "[ 2  6  8 14] [ 2  4  6 14] -1 0\n",
      "[ 2  4  6 14] [ 1  2  6 14] -1 0\n",
      "[ 1  2  6 14] [ 1  2  7 11] -1 0\n",
      "[ 1  2  7 11] [ 1  2  6 14] -1 0\n",
      "[ 1  2  6 14] [ 2  4  6 14] -1 0\n",
      "[ 2  4  6 14] [ 1  2  6 14] -1 0\n",
      "[ 1  2  6 14] [ 2  4  6 14] -1 0\n",
      "[ 2  4  6 14] [ 2  4 11 13] -1 0\n",
      "[ 2  4 11 13] [ 2  8 11 13] -1 0\n",
      "[ 2  8 11 13] [ 0  8 13 14] -1 0\n",
      "[ 0  8 13 14] [ 2  8 11 13] -1 0\n",
      "[ 2  8 11 13] [ 0  8 13 14] -1 0\n",
      "[ 0  8 13 14] [ 0  4 13 14] -1 0\n",
      "[ 0  4 13 14] [ 0  1 13 14] -1 0\n",
      "[ 0  1 13 14] [ 0  4 13 14] -1 0\n",
      "[ 0  4 13 14] [ 4  9 11 13] 0 1\n"
     ]
    }
   ],
   "source": [
    "random_trajectory(env)"
   ]
  },
  {
   "cell_type": "code",
   "execution_count": null,
   "metadata": {},
   "outputs": [],
   "source": []
  }
 ],
 "metadata": {
  "kernelspec": {
   "display_name": "Python 3",
   "language": "python",
   "name": "python3"
  },
  "language_info": {
   "codemirror_mode": {
    "name": "ipython",
    "version": 3
   },
   "file_extension": ".py",
   "mimetype": "text/x-python",
   "name": "python",
   "nbconvert_exporter": "python",
   "pygments_lexer": "ipython3",
   "version": "3.6.5"
  }
 },
 "nbformat": 4,
 "nbformat_minor": 2
}
