{
 "cells": [
  {
   "cell_type": "code",
   "execution_count": 1,
   "metadata": {},
   "outputs": [
    {
     "name": "stderr",
     "output_type": "stream",
     "text": [
      "/h/spitis/anaconda3/lib/python3.6/site-packages/h5py/__init__.py:36: FutureWarning: Conversion of the second argument of issubdtype from `float` to `np.floating` is deprecated. In future, it will be treated as `np.float64 == np.dtype(float).type`.\n",
      "  from ._conv import register_converters as _register_converters\n"
     ]
    }
   ],
   "source": [
    "import tensorflow as tf\n",
    "import numpy as np\n",
    "import gym\n",
    "import copy\n",
    "\n",
    "from itertools import chain\n",
    "\n",
    "from pddl2env import PddlBasicEnv\n",
    "from stable_baselines.base_models_sp import BaseRLModel, SetVerbosity\n",
    "import stable_baselines.tf_util as tf_util\n",
    "from stable_baselines.replay_buffer import ReplayBuffer, EpisodicBuffer, her_future, HerFutureAchievedPastActual"
   ]
  },
  {
   "cell_type": "code",
   "execution_count": 2,
   "metadata": {},
   "outputs": [],
   "source": [
    "env = PddlBasicEnv(\n",
    "      domain='pddl_files/modded_transport/domain.pddl',\n",
    "      instance='pddl_files/modded_transport/ptest.pddl')"
   ]
  },
  {
   "cell_type": "code",
   "execution_count": 3,
   "metadata": {},
   "outputs": [
    {
     "data": {
      "text/plain": [
       "array([ 1,  9, 11, 12], dtype=int32)"
      ]
     },
     "execution_count": 3,
     "metadata": {},
     "output_type": "execute_result"
    }
   ],
   "source": [
    "env.reset()"
   ]
  },
  {
   "cell_type": "code",
   "execution_count": 4,
   "metadata": {},
   "outputs": [],
   "source": [
    "def random_trajectory(env):\n",
    "  state = env.reset()\n",
    "  for i in range (10000):\n",
    "    actions = env.get_actions()\n",
    "    action = actions[np.random.choice(len(actions))]\n",
    "    next_state, reward, done, _ = env.step(action)\n",
    "    print(state, next_state, reward, done)\n",
    "    if done: \n",
    "      break\n",
    "    state = next_state    "
   ]
  },
  {
   "cell_type": "code",
   "execution_count": 8,
   "metadata": {},
   "outputs": [
    {
     "data": {
      "text/plain": [
       "array([10, 13], dtype=int32)"
      ]
     },
     "execution_count": 8,
     "metadata": {},
     "output_type": "execute_result"
    }
   ],
   "source": [
    "env.E.state_to_emb(env.task.goals)"
   ]
  },
  {
   "cell_type": "code",
   "execution_count": 14,
   "metadata": {},
   "outputs": [
    {
     "data": {
      "text/plain": [
       "-1"
      ]
     },
     "execution_count": 14,
     "metadata": {},
     "output_type": "execute_result"
    }
   ],
   "source": [
    "int(env.task.goal_reached(env.task.initial_state))-1"
   ]
  },
  {
   "cell_type": "code",
   "execution_count": null,
   "metadata": {},
   "outputs": [],
   "source": []
  },
  {
   "cell_type": "code",
   "execution_count": 6,
   "metadata": {},
   "outputs": [
    {
     "name": "stdout",
     "output_type": "stream",
     "text": [
      "[ 1  9 11 12] [ 2  9 11 12] -1 0\n",
      "[ 2  9 11 12] [ 2  5  8 12] -1 0\n",
      "[ 2  5  8 12] [ 2  9 11 12] -1 0\n",
      "[ 2  9 11 12] [ 1  9 11 12] -1 0\n",
      "[ 1  9 11 12] [ 4  9 11 12] -1 0\n",
      "[ 4  9 11 12] [4 5 7 9] -1 0\n",
      "[4 5 7 9] [ 4  9 11 12] -1 0\n",
      "[ 4  9 11 12] [4 5 7 9] -1 0\n",
      "[4 5 7 9] [1 5 7 9] -1 0\n",
      "[1 5 7 9] [4 5 7 9] -1 0\n",
      "[4 5 7 9] [ 4  9 11 12] -1 0\n",
      "[ 4  9 11 12] [4 5 7 9] -1 0\n",
      "[4 5 7 9] [1 5 7 9] -1 0\n",
      "[1 5 7 9] [2 5 7 9] -1 0\n",
      "[2 5 7 9] [ 0  2  9 11] -1 0\n",
      "[ 0  2  9 11] [0 2 5 8] -1 0\n",
      "[0 2 5 8] [2 6 7 8] -1 0\n",
      "[2 6 7 8] [2 5 7 9] -1 0\n",
      "[2 5 7 9] [ 0  2  9 11] -1 0\n",
      "[ 0  2  9 11] [ 0  1  9 11] -1 0\n",
      "[ 0  1  9 11] [ 0  2  9 11] -1 0\n",
      "[ 0  2  9 11] [ 0  1  9 11] -1 0\n",
      "[ 0  1  9 11] [ 0  2  9 11] -1 0\n",
      "[ 0  2  9 11] [2 5 7 9] -1 0\n",
      "[2 5 7 9] [1 5 7 9] -1 0\n",
      "[1 5 7 9] [4 5 7 9] -1 0\n",
      "[4 5 7 9] [1 5 7 9] -1 0\n",
      "[1 5 7 9] [2 5 7 9] -1 0\n",
      "[2 5 7 9] [ 0  2  9 11] -1 0\n",
      "[ 0  2  9 11] [ 0  1  9 11] -1 0\n",
      "[ 0  1  9 11] [ 0  2  9 11] -1 0\n",
      "[ 0  2  9 11] [ 0  1  9 11] -1 0\n",
      "[ 0  1  9 11] [ 0  2  9 11] -1 0\n",
      "[ 0  2  9 11] [2 5 7 9] -1 0\n",
      "[2 5 7 9] [2 6 7 8] -1 0\n",
      "[2 6 7 8] [1 6 7 8] -1 0\n",
      "[1 6 7 8] [ 1  5  8 13] -1 0\n",
      "[ 1  5  8 13] [ 4  5  8 13] -1 0\n",
      "[ 4  5  8 13] [ 3  4 11 13] -1 0\n",
      "[ 3  4 11 13] [ 1  3 11 13] -1 0\n",
      "[ 1  3 11 13] [ 2  3 11 13] -1 0\n",
      "[ 2  3 11 13] [ 1  3 11 13] -1 0\n",
      "[ 1  3 11 13] [ 2  3 11 13] -1 0\n",
      "[ 2  3 11 13] [ 1  3 11 13] -1 0\n",
      "[ 1  3 11 13] [1 3 5 7] -1 0\n",
      "[1 3 5 7] [ 1  3 11 13] -1 0\n",
      "[ 1  3 11 13] [ 2  3 11 13] -1 0\n",
      "[ 2  3 11 13] [ 1  3 11 13] -1 0\n",
      "[ 1  3 11 13] [1 3 5 7] -1 0\n",
      "[1 3 5 7] [ 1  3 11 13] -1 0\n",
      "[ 1  3 11 13] [1 3 5 7] -1 0\n",
      "[1 3 5 7] [3 4 5 7] -1 0\n",
      "[3 4 5 7] [ 3  4 11 12] -1 0\n",
      "[ 3  4 11 12] [ 1  3 11 12] -1 0\n",
      "[ 1  3 11 12] [ 2  3 11 12] -1 0\n",
      "[ 2  3 11 12] [ 1  3 11 12] -1 0\n",
      "[ 1  3 11 12] [ 3  4 11 12] -1 0\n",
      "[ 3  4 11 12] [ 4  5  8 12] -1 0\n",
      "[ 4  5  8 12] [ 1  5  8 12] -1 0\n",
      "[ 1  5  8 12] [ 2  5  8 12] -1 0\n",
      "[ 2  5  8 12] [ 1  5  8 12] -1 0\n",
      "[ 1  5  8 12] [ 4  5  8 12] -1 0\n",
      "[ 4  5  8 12] [4 6 7 8] -1 0\n",
      "[4 6 7 8] [1 6 7 8] -1 0\n",
      "[1 6 7 8] [4 6 7 8] -1 0\n",
      "[4 6 7 8] [3 4 5 7] -1 0\n",
      "[3 4 5 7] [1 3 5 7] -1 0\n",
      "[1 3 5 7] [3 4 5 7] -1 0\n",
      "[3 4 5 7] [1 3 5 7] -1 0\n",
      "[1 3 5 7] [ 1  3 11 13] -1 0\n",
      "[ 1  3 11 13] [ 3  4 11 13] -1 0\n",
      "[ 3  4 11 13] [ 4  5  8 13] -1 0\n",
      "[ 4  5  8 13] [ 3  4 11 13] -1 0\n",
      "[ 3  4 11 13] [ 1  3 11 13] -1 0\n",
      "[ 1  3 11 13] [ 3  4 11 13] -1 0\n",
      "[ 3  4 11 13] [ 4  5  8 13] -1 0\n",
      "[ 4  5  8 13] [ 1  5  8 13] -1 0\n",
      "[ 1  5  8 13] [ 4  5  8 13] -1 0\n",
      "[ 4  5  8 13] [ 1  5  8 13] -1 0\n",
      "[ 1  5  8 13] [ 1 10 11 13] 0 1\n"
     ]
    }
   ],
   "source": [
    "random_trajectory(env)"
   ]
  },
  {
   "cell_type": "code",
   "execution_count": null,
   "metadata": {},
   "outputs": [],
   "source": []
  },
  {
   "cell_type": "code",
   "execution_count": null,
   "metadata": {},
   "outputs": [],
   "source": []
  }
 ],
 "metadata": {
  "kernelspec": {
   "display_name": "Python 3",
   "language": "python",
   "name": "python3"
  },
  "language_info": {
   "codemirror_mode": {
    "name": "ipython",
    "version": 3
   },
   "file_extension": ".py",
   "mimetype": "text/x-python",
   "name": "python",
   "nbconvert_exporter": "python",
   "pygments_lexer": "ipython3",
   "version": "3.6.5"
  }
 },
 "nbformat": 4,
 "nbformat_minor": 2
}
