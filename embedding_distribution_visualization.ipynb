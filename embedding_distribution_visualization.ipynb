{
 "cells": [
  {
   "cell_type": "code",
   "execution_count": 17,
   "metadata": {},
   "outputs": [],
   "source": [
    "from pyperplan import _parse, _ground\n",
    "from argparse import ArgumentParser\n",
    "import networkx as nx\n",
    "import numpy as np\n",
    "import os\n",
    "\n",
    "from scipy.stats import spearmanr\n",
    "from dotenv import find_dotenv, load_dotenv\n",
    "\n",
    "from settings import ROOT_DIR\n",
    "\n",
    "from alex_code.evaluate_embeddings import load_embeddings\n",
    "from alex_code.utils.save import read_pickle\n",
    "from alex_code.utils.similarity import cosine_similarity\n",
    "\n"
   ]
  },
  {
   "cell_type": "code",
   "execution_count": 4,
   "metadata": {},
   "outputs": [],
   "source": [
    "problem_path = \"logistics/43/problogistics-6-1.pddl\"\n",
    "domain_path = \"logistics/43/domain.pddl\"\n",
    "d = 128\n",
    "l = 80\n",
    "r = 10\n",
    "k = 10\n",
    "e = 1\n",
    "p = 1\n",
    "q = 1"
   ]
  },
  {
   "cell_type": "code",
   "execution_count": 15,
   "metadata": {},
   "outputs": [],
   "source": [
    "load_dotenv(find_dotenv(), override=True)\n",
    "\n",
    "pddl_dir = os.environ.get(\"PDDL_DIR\")\n",
    "pddl_dir = os.path.join(ROOT_DIR, pddl_dir)\n",
    "\n",
    "domain_file = os.path.join(pddl_dir, domain_path)\n",
    "problem_file = os.path.join(pddl_dir, problem_path)\n",
    "\n",
    "problem = _parse(domain_file=domain_file, problem_file=problem_file)\n",
    "task = _ground(problem)\n",
    "\n",
    "problem_name = os.path.basename(problem_path).split(\".\")[0]\n",
    "\n",
    "embedding_dir = os.environ.get(\"EMBEDDINGS_DIR\")\n",
    "embedding_dir = os.path.join(ROOT_DIR, embedding_dir, os.path.dirname(problem_path))\n",
    "embedding_file = os.environ.get(\"EMBEDDING_FILE\")\n",
    "\n",
    "embedding_path = os.path.join(embedding_dir, embedding_file.format(problem_name=problem_name, d=d,  l=l, r=r, k=k,\n",
    "                                                                  e=e, p=p, q=q))\n",
    "\n",
    "graph_dir = os.environ.get(\"GRAPHS_DIR\")\n",
    "graph_dir = os.path.join(ROOT_DIR, graph_dir, os.path.dirname(problem_path))\n",
    "\n",
    "goal_file = os.environ.get(\"GOAL_FILE\")\n",
    "goal_file = os.path.join(graph_dir, goal_file)\n",
    "\n",
    "goal_idx = read_pickle(goal_file)[\"idx\"]"
   ]
  },
  {
   "cell_type": "code",
   "execution_count": 8,
   "metadata": {},
   "outputs": [],
   "source": [
    "embeddings = load_embeddings(embedding_path)"
   ]
  },
  {
   "cell_type": "code",
   "execution_count": 21,
   "metadata": {},
   "outputs": [],
   "source": [
    "goal_embedding = embeddings[goal_idx]\n",
    "similarities = []\n",
    "distances = []\n",
    "\n",
    "for i in range(len(embeddings)):\n",
    "    sim = cosine_similarity(embeddings[i], goal_embedding)\n",
    "    similarities.append(sim)\n",
    "    dist = np.linalg.norm(embeddings[i] - goal_embedding)\n",
    "    distances.append(dist)\n",
    "    \n",
    "similarities = np.array(similarities)\n",
    "distances = np.array(distances)"
   ]
  },
  {
   "cell_type": "code",
   "execution_count": 19,
   "metadata": {},
   "outputs": [],
   "source": [
    "import seaborn as sns\n",
    "import matplotlib.pyplot as plt\n",
    "\n",
    "%matplotlib inline"
   ]
  },
  {
   "cell_type": "code",
   "execution_count": 20,
   "metadata": {},
   "outputs": [
    {
     "data": {
      "text/plain": [
       "<matplotlib.axes._subplots.AxesSubplot at 0x7f0f11e2f3c8>"
      ]
     },
     "execution_count": 20,
     "metadata": {},
     "output_type": "execute_result"
    },
    {
     "data": {
      "image/png": "[encoded data removed]",
      "text/plain": [
       "<Figure size 432x288 with 1 Axes>"
      ]
     },
     "metadata": {
      "needs_background": "light"
     },
     "output_type": "display_data"
    }
   ],
   "source": [
    "fig = plt.figure()\n",
    "\n",
    "ax = fig.add_subplot(111)\n",
    "sns.distplot(similarities, color=\"blue\")"
   ]
  },
  {
   "cell_type": "code",
   "execution_count": 22,
   "metadata": {},
   "outputs": [
    {
     "data": {
      "text/plain": [
       "<matplotlib.axes._subplots.AxesSubplot at 0x7f0f11de4d68>"
      ]
     },
     "execution_count": 22,
     "metadata": {},
     "output_type": "execute_result"
    },
    {
     "data": {
      "image/png": "[encoded data removed]",
      "text/plain": [
       "<Figure size 432x288 with 1 Axes>"
      ]
     },
     "metadata": {
      "needs_background": "light"
     },
     "output_type": "display_data"
    }
   ],
   "source": [
    "fig = plt.figure()\n",
    "\n",
    "ax = fig.add_subplot(111)\n",
    "sns.distplot(distances, color=\"blue\")"
   ]
  },
  {
   "cell_type": "code",
   "execution_count": null,
   "metadata": {},
   "outputs": [],
   "source": []
  }
 ],
 "metadata": {
  "kernelspec": {
   "display_name": "gnn",
   "language": "python",
   "name": "gnn"
  },
  "language_info": {
   "codemirror_mode": {
    "name": "ipython",
    "version": 3
   },
   "file_extension": ".py",
   "mimetype": "text/x-python",
   "name": "python",
   "nbconvert_exporter": "python",
   "pygments_lexer": "ipython3",
   "version": "3.7.2"
  }
 },
 "nbformat": 4,
 "nbformat_minor": 2
}
