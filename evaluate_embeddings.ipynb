{
 "cells": [
  {
   "cell_type": "code",
   "execution_count": 56,
   "metadata": {},
   "outputs": [],
   "source": [
    "from pyperplan import _parse, _ground\n",
    "from argparse import ArgumentParser\n",
    "import networkx as nx\n",
    "import numpy as np\n",
    "\n",
    "from scipy.stats import spearmanr"
   ]
  },
  {
   "cell_type": "code",
   "execution_count": 32,
   "metadata": {},
   "outputs": [],
   "source": [
    "domain_path = \"pddl_files/logistics/43/domain.pddl\"\n",
    "problem_path = \"pddl_files/logistics/43/problogistics-6-1.pddl\"\n",
    "embedding_path = \"logistics.emb\"\n",
    "edges_path = \"logistics.edgelist\""
   ]
  },
  {
   "cell_type": "code",
   "execution_count": 33,
   "metadata": {},
   "outputs": [],
   "source": [
    "# Parse embeddings\n",
    "ordering = []\n",
    "embeddings = []\n",
    "\n",
    "with open(embedding_path, \"r\") as f:\n",
    "    content = f.readlines()\n",
    "\n",
    "for i in range(1, len(content)):\n",
    "    split = content[i].split(\" \")\n",
    "    split[-1] = split[-1][:-2]\n",
    "\n",
    "    ordering.append(split[0])\n",
    "    embeddings.append(np.array(split[1:]))\n",
    "\n",
    "ordering = np.array(ordering).astype(int)\n",
    "embeddings = np.array(embeddings).astype(float)\n",
    "new_embeddings = np.ones(embeddings.shape)\n",
    "new_embeddings[ordering, :] = embeddings[np.arange(len(embeddings)),:]"
   ]
  },
  {
   "cell_type": "code",
   "execution_count": 51,
   "metadata": {},
   "outputs": [],
   "source": [
    "# Create graph from edges\n",
    "G = nx.Graph()\n",
    "\n",
    "with open(edges_path, \"r\") as f:\n",
    "    content = f.readlines()\n",
    "    \n",
    "for i in range(0, len(content)):\n",
    "    split = content[i].split(\" \")\n",
    "    G.add_edge(int(split[0]), int(split[1][:-1]))"
   ]
  },
  {
   "cell_type": "code",
   "execution_count": 66,
   "metadata": {},
   "outputs": [],
   "source": [
    "# Compare dot product to actual distance\n",
    "dot_products = []\n",
    "distances = []\n",
    "\n",
    "for i in range(len(G.nodes)):\n",
    "    for j in range(len(G.nodes)):\n",
    "        if nx.has_path(G, i, j):\n",
    "            dot_products.append(np.dot(new_embeddings[i], new_embeddings[j]))\n",
    "            distances.append(nx.shortest_path_length(G, i, j))"
   ]
  },
  {
   "cell_type": "code",
   "execution_count": 65,
   "metadata": {},
   "outputs": [
    {
     "data": {
      "text/plain": [
       "5"
      ]
     },
     "execution_count": 65,
     "metadata": {},
     "output_type": "execute_result"
    }
   ],
   "source": [
    "nx.shortest_path_length(G, 0, 100)"
   ]
  },
  {
   "cell_type": "code",
   "execution_count": 67,
   "metadata": {},
   "outputs": [
    {
     "data": {
      "text/plain": [
       "SpearmanrResult(correlation=-0.16714452830207727, pvalue=0.0)"
      ]
     },
     "execution_count": 67,
     "metadata": {},
     "output_type": "execute_result"
    }
   ],
   "source": [
    "spearmanr(dot_products, distances)"
   ]
  },
  {
   "cell_type": "code",
   "execution_count": null,
   "metadata": {},
   "outputs": [],
   "source": []
  }
 ],
 "metadata": {
  "kernelspec": {
   "display_name": "gnn",
   "language": "python",
   "name": "gnn"
  },
  "language_info": {
   "codemirror_mode": {
    "name": "ipython",
    "version": 3
   },
   "file_extension": ".py",
   "mimetype": "text/x-python",
   "name": "python",
   "nbconvert_exporter": "python",
   "pygments_lexer": "ipython3",
   "version": "3.7.2"
  },
  "toc": {
   "base_numbering": 1,
   "nav_menu": {},
   "number_sections": true,
   "sideBar": true,
   "skip_h1_title": false,
   "title_cell": "Table of Contents",
   "title_sidebar": "Contents",
   "toc_cell": false,
   "toc_position": {},
   "toc_section_display": true,
   "toc_window_display": false
  }
 },
 "nbformat": 4,
 "nbformat_minor": 2
}
