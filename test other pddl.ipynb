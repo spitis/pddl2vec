{
 "cells": [
  {
   "cell_type": "code",
   "execution_count": 2,
   "metadata": {},
   "outputs": [],
   "source": [
    "import pddl"
   ]
  },
  {
   "cell_type": "code",
   "execution_count": 3,
   "metadata": {},
   "outputs": [
    {
     "name": "stdout",
     "output_type": "stream",
     "text": [
      "Parsing domain testdomain.pddl\n",
      "Parsing problem testinstance.pddl\n"
     ]
    }
   ],
   "source": [
    "dom, prob = pddl.parseDomainAndProblem('testdomain.pddl', 'testinstance.pddl')"
   ]
  },
  {
   "cell_type": "code",
   "execution_count": 4,
   "metadata": {},
   "outputs": [
    {
     "data": {
      "text/plain": [
       "[<pddl.Predicate at 0x7f84d06de3c8>,\n",
       " <pddl.Predicate at 0x7f84d06de550>,\n",
       " <pddl.Predicate at 0x7f84d06de710>,\n",
       " <pddl.Predicate at 0x7f84d06de898>,\n",
       " <pddl.Predicate at 0x7f84d06de9e8>]"
      ]
     },
     "execution_count": 4,
     "metadata": {},
     "output_type": "execute_result"
    }
   ],
   "source": [
    "dom.predicates"
   ]
  },
  {
   "cell_type": "code",
   "execution_count": 7,
   "metadata": {},
   "outputs": [
    {
     "data": {
      "text/plain": [
       "['(adjacent ?l1 - location ?l2 - location)',\n",
       " '(atl ?r - robot ?l - location)',\n",
       " '(loaded ?r - robot ?c - container)',\n",
       " '(unloaded ?r - robot)',\n",
       " '(in ?c - container ?l - location)']"
      ]
     },
     "execution_count": 7,
     "metadata": {},
     "output_type": "execute_result"
    }
   ],
   "source": [
    "[p.asPDDL() for p in dom.predicates]"
   ]
  },
  {
   "cell_type": "code",
   "execution_count": null,
   "metadata": {},
   "outputs": [],
   "source": []
  }
 ],
 "metadata": {
  "kernelspec": {
   "display_name": "Python 3",
   "language": "python",
   "name": "python3"
  },
  "language_info": {
   "codemirror_mode": {
    "name": "ipython",
    "version": 3
   },
   "file_extension": ".py",
   "mimetype": "text/x-python",
   "name": "python",
   "nbconvert_exporter": "python",
   "pygments_lexer": "ipython3",
   "version": "3.6.5"
  }
 },
 "nbformat": 4,
 "nbformat_minor": 2
}
