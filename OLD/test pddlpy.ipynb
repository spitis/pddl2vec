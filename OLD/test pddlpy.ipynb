{
 "cells": [
  {
   "cell_type": "code",
   "execution_count": 1,
   "metadata": {},
   "outputs": [],
   "source": [
    "import pddlpy"
   ]
  },
  {
   "cell_type": "code",
   "execution_count": 2,
   "metadata": {},
   "outputs": [],
   "source": [
    "dom = pddlpy.DomainProblem('testdomain.pddl', 'testinstance.pddl')"
   ]
  },
  {
   "cell_type": "code",
   "execution_count": 3,
   "metadata": {},
   "outputs": [
    {
     "data": {
      "text/plain": [
       "{('adjacent', 'loc1', 'loc2'),\n",
       " ('adjacent', 'loc2', 'loc1'),\n",
       " ('atl', 'robq', 'loc2'),\n",
       " ('atl', 'robr', 'loc1'),\n",
       " ('in', 'conta', 'loc1'),\n",
       " ('in', 'contb', 'loc2'),\n",
       " ('unloaded', 'robq'),\n",
       " ('unloaded', 'robr')}"
      ]
     },
     "execution_count": 3,
     "metadata": {},
     "output_type": "execute_result"
    }
   ],
   "source": [
    "dom.initialstate()"
   ]
  },
  {
   "cell_type": "code",
   "execution_count": 4,
   "metadata": {},
   "outputs": [
    {
     "data": {
      "text/plain": [
       "dict_keys(['move', 'load', 'unload'])"
      ]
     },
     "execution_count": 4,
     "metadata": {},
     "output_type": "execute_result"
    }
   ],
   "source": [
    "dom.operators()"
   ]
  },
  {
   "cell_type": "code",
   "execution_count": 5,
   "metadata": {},
   "outputs": [
    {
     "data": {
      "text/plain": [
       "['move', 'load', 'unload']"
      ]
     },
     "execution_count": 5,
     "metadata": {},
     "output_type": "execute_result"
    }
   ],
   "source": [
    "list( dom.operators() )"
   ]
  },
  {
   "cell_type": "code",
   "execution_count": 6,
   "metadata": {},
   "outputs": [
    {
     "data": {
      "text/plain": [
       "[<pddlpy.pddl.Operator at 0x7fc3a03140b8>,\n",
       " <pddlpy.pddl.Operator at 0x7fc3a0314128>,\n",
       " <pddlpy.pddl.Operator at 0x7fc3a0314160>,\n",
       " <pddlpy.pddl.Operator at 0x7fc3a0314198>,\n",
       " <pddlpy.pddl.Operator at 0x7fc3a03141d0>,\n",
       " <pddlpy.pddl.Operator at 0x7fc3a0314208>,\n",
       " <pddlpy.pddl.Operator at 0x7fc3a0314240>,\n",
       " <pddlpy.pddl.Operator at 0x7fc3a0314278>]"
      ]
     },
     "execution_count": 6,
     "metadata": {},
     "output_type": "execute_result"
    }
   ],
   "source": [
    "list( dom.ground_operator('move') )"
   ]
  },
  {
   "cell_type": "code",
   "execution_count": 7,
   "metadata": {},
   "outputs": [
    {
     "data": {
      "text/plain": [
       "{('adjacent', 'loc1', 'loc1'), ('atl', 'robr', 'loc1')}"
      ]
     },
     "execution_count": 7,
     "metadata": {},
     "output_type": "execute_result"
    }
   ],
   "source": [
    "list( dom.ground_operator('move') )[0].precondition_pos"
   ]
  },
  {
   "cell_type": "code",
   "execution_count": 12,
   "metadata": {},
   "outputs": [
    {
     "data": {
      "text/plain": [
       "{'robr': 'robot',\n",
       " 'conta': 'container',\n",
       " 'loc1': 'location',\n",
       " 'robq': 'robot',\n",
       " 'contb': 'container',\n",
       " 'loc2': 'location'}"
      ]
     },
     "execution_count": 12,
     "metadata": {},
     "output_type": "execute_result"
    }
   ],
   "source": [
    "dom.worldobjects()"
   ]
  },
  {
   "cell_type": "code",
   "execution_count": 17,
   "metadata": {},
   "outputs": [
    {
     "data": {
      "text/plain": [
       "{('in', 'contb', 'loc1'), ('loaded', 'robr', 'conta')}"
      ]
     },
     "execution_count": 17,
     "metadata": {},
     "output_type": "execute_result"
    }
   ],
   "source": [
    "dom.goals()"
   ]
  },
  {
   "cell_type": "code",
   "execution_count": 20,
   "metadata": {},
   "outputs": [
    {
     "data": {
      "text/plain": [
       "[]"
      ]
     },
     "execution_count": 20,
     "metadata": {},
     "output_type": "execute_result"
    }
   ],
   "source": [
    "dom.domain.scopes"
   ]
  },
  {
   "cell_type": "code",
   "execution_count": null,
   "metadata": {},
   "outputs": [],
   "source": []
  },
  {
   "cell_type": "code",
   "execution_count": 19,
   "metadata": {},
   "outputs": [
    {
     "name": "stdout",
     "output_type": "stream",
     "text": [
      "\n",
      "DOMAIN PROBLEM\n",
      "objects\n",
      "\t {'robr': 'robot', 'conta': 'container', 'loc1': 'location', 'robq': 'robot', 'contb': 'container', 'loc2': 'location'}\n",
      "operators\n",
      "\t ['move', 'load', 'unload']\n",
      "init\n",
      "\t {('unloaded', 'robr'), ('adjacent', 'loc2', 'loc1'), ('atl', 'robr', 'loc1'), ('in', 'conta', 'loc1'), ('unloaded', 'robq'), ('adjacent', 'loc1', 'loc2'), ('atl', 'robq', 'loc2'), ('in', 'contb', 'loc2')}\n",
      "goal\n",
      "\t {('loaded', 'robr', 'conta'), ('in', 'contb', 'loc1')}\n",
      "\n",
      "ground for operator move applicable if (adjacent loc1 loc2)\n",
      "\n",
      "\tvars {'?r': 'robr', '?from': 'loc1', '?to': 'loc2'}\n",
      "\tpre+ {('adjacent', 'loc1', 'loc2'), ('atl', 'robr', 'loc1')}\n",
      "\tpre- set()\n",
      "\teff+ {('atl', 'robr', 'loc2')}\n",
      "\teff- {('atl', 'robr', 'loc1')}\n",
      "\n",
      "\tvars {'?r': 'robq', '?from': 'loc1', '?to': 'loc2'}\n",
      "\tpre+ {('adjacent', 'loc1', 'loc2'), ('atl', 'robq', 'loc1')}\n",
      "\tpre- set()\n",
      "\teff+ {('atl', 'robq', 'loc2')}\n",
      "\teff- {('atl', 'robq', 'loc1')}\n"
     ]
    }
   ],
   "source": [
    "domprob = dom\n",
    "print()\n",
    "print(\"DOMAIN PROBLEM\")\n",
    "print(\"objects\")\n",
    "print(\"\\t\", domprob.worldobjects())\n",
    "print(\"operators\")\n",
    "print(\"\\t\", list( domprob.operators() ))\n",
    "print(\"init\",)\n",
    "print(\"\\t\", domprob.initialstate())\n",
    "print(\"goal\",)\n",
    "print(\"\\t\", domprob.goals())\n",
    "\n",
    "print()\n",
    "op = 'move'\n",
    "print(\"ground for operator\", op, \"applicable if (adjacent loc1 loc2)\")\n",
    "for o in domprob.ground_operator(op):\n",
    "    if (\"adjacent\",\"loc1\",\"loc2\") in o.precondition_pos:\n",
    "        print()\n",
    "        print( \"\\tvars\", o.variable_list )\n",
    "        print( \"\\tpre+\", o.precondition_pos )\n",
    "        print( \"\\tpre-\", o.precondition_neg )\n",
    "        print( \"\\teff+\", o.effect_pos )\n",
    "        print( \"\\teff-\", o.effect_neg )\n"
   ]
  },
  {
   "cell_type": "code",
   "execution_count": null,
   "metadata": {},
   "outputs": [],
   "source": []
  },
  {
   "cell_type": "code",
   "execution_count": null,
   "metadata": {},
   "outputs": [],
   "source": []
  }
 ],
 "metadata": {
  "kernelspec": {
   "display_name": "Python 3",
   "language": "python",
   "name": "python3"
  },
  "language_info": {
   "codemirror_mode": {
    "name": "ipython",
    "version": 3
   },
   "file_extension": ".py",
   "mimetype": "text/x-python",
   "name": "python",
   "nbconvert_exporter": "python",
   "pygments_lexer": "ipython3",
   "version": "3.6.5"
  }
 },
 "nbformat": 4,
 "nbformat_minor": 2
}
