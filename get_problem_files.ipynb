{
 "cells": [
  {
   "cell_type": "markdown",
   "metadata": {},
   "source": [
    "# Getting Training Samples"
   ]
  },
  {
   "cell_type": "markdown",
   "metadata": {},
   "source": [
    "This notebook uses `api.planning.domains` to download all the relevant problem files for a specified domain locally, later to be read in by pyperplan to generate python representations of PDDL.\n",
    "\n",
    "This requires Python 2 and the `wget` package for downloading files so make sure to have it installed."
   ]
  },
  {
   "cell_type": "code",
   "execution_count": 3,
   "metadata": {},
   "outputs": [],
   "source": [
    "from planning_api_tools import planning_domains_api as api\n",
    "import wget\n",
    "import os"
   ]
  },
  {
   "cell_type": "markdown",
   "metadata": {},
   "source": [
    "Specify a `domain` and a relative path for where the downloaded pddl files will end up."
   ]
  },
  {
   "cell_type": "code",
   "execution_count": 8,
   "metadata": {},
   "outputs": [],
   "source": [
    "domain = \"logistics\"\n",
    "path = os.path.join(\"pddl_files\", domain)\n",
    "\n",
    "if not os.path.exists(path):\n",
    "    os.makedirs(path)"
   ]
  },
  {
   "cell_type": "code",
   "execution_count": 9,
   "metadata": {},
   "outputs": [
    {
     "data": {
      "text/plain": [
       "[{u'description': u'This is a subset of the problems from the logistics benchmark in IPC-2000.',\n",
       "  u'domain_id': 129,\n",
       "  u'domain_name': u'logistics00-reduced',\n",
       "  u'tags': u'[\":adl\",\":strips\",\":conditional-effects\",\":action-costs\",\":derived-predicates\",\":equality\",\":negative-preconditions\",\":quantified-precondition\",\":typing\"]'},\n",
       " {u'description': u'There are several cities, each containing several locations, some of which are airports. There are also trucks, which can drive within a single city, and airplanes, which can fly between airports. The goal is to get some packages from various locations to various new locations. This domain was created by Bart Selman and Henry Kautz, based on an earlier domain by Manuela Veloso.',\n",
       "  u'domain_id': 38,\n",
       "  u'domain_name': u'logistics',\n",
       "  u'tags': u'[\":adl\",\":strips\",\":conditional-effects\",\":action-costs\",\":derived-predicates\",\":equality\",\":negative-preconditions\",\":typing\"]'},\n",
       " {u'description': u'There are several cities, each containing several locations, some of which are airports. There are also trucks, which can drive within a single city, and airplanes, which can fly between airports. The goal is to get some packages from various locations to various new locations. This domain was created by Bart Selman and Henry Kautz, based on an earlier domain by Manuela Veloso.',\n",
       "  u'domain_id': 43,\n",
       "  u'domain_name': u'logistics',\n",
       "  u'tags': u'[\":adl\",\":strips\",\":conditional-effects\",\":action-costs\",\":derived-predicates\",\":equality\",\":fluents\",\":negative-preconditions\",\":quantified-precondition\",\":typing\"]'}]"
      ]
     },
     "execution_count": 9,
     "metadata": {},
     "output_type": "execute_result"
    }
   ],
   "source": [
    "domains = api.find_domains(domain)\n",
    "domains"
   ]
  },
  {
   "cell_type": "code",
   "execution_count": 12,
   "metadata": {},
   "outputs": [],
   "source": [
    "domain_id_list = []\n",
    "\n",
    "for domain in domains:\n",
    "    if \"(sat\" in domain[\"description\"] or not \"(opt\" in domain[\"description\"]:\n",
    "        domain_id_list.append(domain[\"domain_id\"])"
   ]
  },
  {
   "cell_type": "code",
   "execution_count": 13,
   "metadata": {},
   "outputs": [],
   "source": [
    "for domain_id in domain_id_list:\n",
    "    problems = api.get_problems(domain_id)\n",
    "    competition_path = os.path.join(path, str(domain_id))\n",
    "    \n",
    "    if not os.path.exists(os.path.join(path, str(domain_id))):\n",
    "        os.makedirs(competition_path)\n",
    "    \n",
    "    for problem in problems:\n",
    "        domain_url = problem[\"domain_url\"]\n",
    "        problem_url = problem[\"problem_url\"]\n",
    "        problem_file = problem[\"problem\"]\n",
    "        \n",
    "        if not os.path.exists(os.path.join(competition_path, \"domain.pddl\")):\n",
    "            wget.download(domain_url, os.path.join(competition_path, \"domain.pddl\"))\n",
    "        \n",
    "        wget.download(problem_url, os.path.join(competition_path, problem_file))\n",
    "        "
   ]
  },
  {
   "cell_type": "code",
   "execution_count": null,
   "metadata": {},
   "outputs": [],
   "source": []
  }
 ],
 "metadata": {
  "kernelspec": {
   "display_name": "py2",
   "language": "python",
   "name": "py2"
  },
  "language_info": {
   "codemirror_mode": {
    "name": "ipython",
    "version": 2
   },
   "file_extension": ".py",
   "mimetype": "text/x-python",
   "name": "python",
   "nbconvert_exporter": "python",
   "pygments_lexer": "ipython2",
   "version": "2.7.16"
  }
 },
 "nbformat": 4,
 "nbformat_minor": 2
}
