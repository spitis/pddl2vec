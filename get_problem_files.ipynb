{
 "cells": [
  {
   "cell_type": "markdown",
   "metadata": {},
   "source": [
    "# Getting Training Samples"
   ]
  },
  {
   "cell_type": "markdown",
   "metadata": {},
   "source": [
    "This notebook uses `api.planning.domains` to download all the relevant problem files for a specified domain locally, later to be read in by pyperplan to generate python representations of PDDL.\n",
    "\n",
    "This requires Python 2 and the `wget` package for downloading files so make sure to have it installed."
   ]
  },
  {
   "cell_type": "code",
   "execution_count": 18,
   "metadata": {},
   "outputs": [],
   "source": [
    "from planning_api_tools import planning_domains_api as api\n",
    "import wget\n",
    "import os"
   ]
  },
  {
   "cell_type": "markdown",
   "metadata": {},
   "source": [
    "Specify a `domain` and a relative path for where the downloaded pddl files will end up."
   ]
  },
  {
   "cell_type": "code",
   "execution_count": 19,
   "metadata": {},
   "outputs": [],
   "source": [
    "domain = \"transport\"\n",
    "path = os.path.join(\"pddl_files\", domain)\n",
    "\n",
    "if not os.path.exists(path):\n",
    "    os.makedirs(path)"
   ]
  },
  {
   "cell_type": "code",
   "execution_count": 20,
   "metadata": {},
   "outputs": [
    {
     "data": {
      "text/plain": [
       "[{u'description': u'(opt11) Each vehicle can transport some packages depending on its capacity and moving has a cost depending on the length of the road. Picking up or dropping a package costs 1.',\n",
       "  u'domain_id': 13,\n",
       "  u'domain_name': u'transport',\n",
       "  u'tags': u'[\":action-costs\",\":typing\"]'},\n",
       " {u'description': u'(opt14) Each vehicle can transport some packages depending on its capacity and moving has a cost depending on the length of the road. Picking up or dropping a package costs 1.',\n",
       "  u'domain_id': 11,\n",
       "  u'domain_name': u'transport',\n",
       "  u'tags': u'[\":adl\",\":strips\",\":action-costs\",\":equality\",\":typing\"]'},\n",
       " {u'description': u'(sat08) Each vehicle can transport some packages depending on its capacity and moving has a cost depending on the length of the road. Picking up or dropping a package costs 1.',\n",
       "  u'domain_id': 51,\n",
       "  u'domain_name': u'transport',\n",
       "  u'tags': u'[\":adl\",\":strips\",\":action-costs\",\":equality\",\":typing\"]'},\n",
       " {u'description': u'(sat14) Each vehicle can transport some packages depending on its capacity and moving has a cost depending on the length of the road. Picking up or dropping a package costs 1.',\n",
       "  u'domain_id': 118,\n",
       "  u'domain_name': u'transport',\n",
       "  u'tags': u'[\":adl\",\":strips\",\":conditional-effects\",\":action-costs\",\":derived-predicates\",\":equality\",\":negative-preconditions\",\":typing\"]'},\n",
       " {u'description': u'(opt08) Each vehicle can transport some packages depending on its capacity and moving has a cost depending on the length of the road. Picking up or dropping a package costs 1.',\n",
       "  u'domain_id': 57,\n",
       "  u'domain_name': u'transport',\n",
       "  u'tags': u'[\":adl\",\":strips\",\":conditional-effects\",\":action-costs\",\":derived-predicates\",\":equality\",\":negative-preconditions\",\":typing\"]'},\n",
       " {u'description': u'(sat11) Each vehicle can transport some packages depending on its capacity and moving has a cost depending on the length of the road. Picking up or dropping a package costs 1.',\n",
       "  u'domain_id': 6,\n",
       "  u'domain_name': u'transport',\n",
       "  u'tags': u'[\":adl\",\":strips\",\":conditional-effects\",\":action-costs\",\":derived-predicates\",\":equality\",\":negative-preconditions\",\":typing\"]'}]"
      ]
     },
     "execution_count": 20,
     "metadata": {},
     "output_type": "execute_result"
    }
   ],
   "source": [
    "domains = api.find_domains(\"transport\")\n",
    "domains"
   ]
  },
  {
   "cell_type": "code",
   "execution_count": 11,
   "metadata": {},
   "outputs": [],
   "source": [
    "domain_id_list = []\n",
    "\n",
    "for domain in domains:\n",
    "    if \"(sat\" in domain[\"description\"]:\n",
    "        domain_id_list.append(domain[\"domain_id\"])"
   ]
  },
  {
   "cell_type": "code",
   "execution_count": 17,
   "metadata": {},
   "outputs": [],
   "source": [
    "for domain_id in domain_id_list:\n",
    "    problems = api.get_problems(domain_id)\n",
    "    competition_path = os.path.join(path, str(domain_id))\n",
    "    \n",
    "    if not os.path.exists(os.path.join(path, str(domain_id))):\n",
    "        os.makedirs(competition_path)\n",
    "    \n",
    "    for problem in problems:\n",
    "        domain_url = problem[\"domain_url\"]\n",
    "        problem_url = problem[\"problem_url\"]\n",
    "        problem_file = problem[\"problem\"]\n",
    "        \n",
    "        if not os.path.exists(os.path.join(competition_path, \"domain.pddl\")):\n",
    "            wget.download(domain_url, os.path.join(competition_path, \"domain.pddl\"))\n",
    "        \n",
    "        wget.download(problem_url, os.path.join(competition_path, problem_file))\n",
    "        "
   ]
  }
 ],
 "metadata": {
  "kernelspec": {
   "display_name": "Python (py2)",
   "language": "python",
   "name": "py2"
  },
  "language_info": {
   "codemirror_mode": {
    "name": "ipython",
    "version": 2
   },
   "file_extension": ".py",
   "mimetype": "text/x-python",
   "name": "python",
   "nbconvert_exporter": "python",
   "pygments_lexer": "ipython2",
   "version": "2.7.15"
  }
 },
 "nbformat": 4,
 "nbformat_minor": 2
}
