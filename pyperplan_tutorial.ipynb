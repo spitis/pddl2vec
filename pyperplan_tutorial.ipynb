{
 "cells": [
  {
   "cell_type": "code",
   "execution_count": 1,
   "metadata": {},
   "outputs": [],
   "source": [
    "from pyperplan import _parse"
   ]
  },
  {
   "cell_type": "markdown",
   "metadata": {},
   "source": [
    "# LOADING A PROBLEM"
   ]
  },
  {
   "cell_type": "code",
   "execution_count": 2,
   "metadata": {},
   "outputs": [],
   "source": [
    "problem = _parse(domain_file='testdomain.pddl',problem_file='testinstance.pddl')"
   ]
  },
  {
   "cell_type": "code",
   "execution_count": 3,
   "metadata": {},
   "outputs": [
    {
     "data": {
      "text/plain": [
       "[adjacent[('loc1', location), ('loc2', location)],\n",
       " adjacent[('loc2', location), ('loc1', location)],\n",
       " in[('conta', container), ('loc1', location)],\n",
       " in[('contb', container), ('loc2', location)],\n",
       " atl[('robr', robot), ('loc1', location)],\n",
       " atl[('robq', robot), ('loc2', location)],\n",
       " unloaded[('robr', robot)],\n",
       " unloaded[('robq', robot)]]"
      ]
     },
     "execution_count": 3,
     "metadata": {},
     "output_type": "execute_result"
    }
   ],
   "source": [
    "problem.initial_state"
   ]
  },
  {
   "cell_type": "code",
   "execution_count": 4,
   "metadata": {},
   "outputs": [
    {
     "data": {
      "text/plain": [
       "'dwrpb1'"
      ]
     },
     "execution_count": 4,
     "metadata": {},
     "output_type": "execute_result"
    }
   ],
   "source": [
    "problem.name"
   ]
  },
  {
   "cell_type": "code",
   "execution_count": 5,
   "metadata": {},
   "outputs": [
    {
     "data": {
      "text/plain": [
       "{'robr': robot,\n",
       " 'robq': robot,\n",
       " 'loc1': location,\n",
       " 'loc2': location,\n",
       " 'conta': container,\n",
       " 'contb': container}"
      ]
     },
     "execution_count": 5,
     "metadata": {},
     "output_type": "execute_result"
    }
   ],
   "source": [
    "problem.objects"
   ]
  },
  {
   "cell_type": "code",
   "execution_count": 6,
   "metadata": {},
   "outputs": [
    {
     "data": {
      "text/plain": [
       "[in[('contb', (container,)), ('loc1', (location,))],\n",
       " loaded[('robr', (robot,)), ('conta', (container,))]]"
      ]
     },
     "execution_count": 6,
     "metadata": {},
     "output_type": "execute_result"
    }
   ],
   "source": [
    "problem.goal"
   ]
  },
  {
   "cell_type": "code",
   "execution_count": 7,
   "metadata": {},
   "outputs": [
    {
     "name": "stdout",
     "output_type": "stream",
     "text": [
      "adjacent\n",
      "atl\n",
      "loaded\n",
      "unloaded\n",
      "in\n"
     ]
    },
    {
     "data": {
      "text/plain": [
       "[None, None, None, None, None]"
      ]
     },
     "execution_count": 7,
     "metadata": {},
     "output_type": "execute_result"
    }
   ],
   "source": [
    "[print(pred) for pred in problem.domain.predicates]"
   ]
  },
  {
   "cell_type": "markdown",
   "metadata": {},
   "source": [
    "# GROUNDING(?) IT"
   ]
  },
  {
   "cell_type": "code",
   "execution_count": 8,
   "metadata": {},
   "outputs": [],
   "source": [
    "from pyperplan import _ground"
   ]
  },
  {
   "cell_type": "code",
   "execution_count": 9,
   "metadata": {},
   "outputs": [],
   "source": [
    "task = _ground(problem)"
   ]
  },
  {
   "cell_type": "code",
   "execution_count": 10,
   "metadata": {},
   "outputs": [
    {
     "data": {
      "text/plain": [
       "<Task dwrpb1, vars: 14, operators: 20>"
      ]
     },
     "execution_count": 10,
     "metadata": {},
     "output_type": "execute_result"
    }
   ],
   "source": [
    "task"
   ]
  },
  {
   "cell_type": "code",
   "execution_count": 11,
   "metadata": {},
   "outputs": [
    {
     "data": {
      "text/plain": [
       "{'(atl robq loc1)',\n",
       " '(atl robq loc2)',\n",
       " '(atl robr loc1)',\n",
       " '(atl robr loc2)',\n",
       " '(in conta loc1)',\n",
       " '(in conta loc2)',\n",
       " '(in contb loc1)',\n",
       " '(in contb loc2)',\n",
       " '(loaded robq conta)',\n",
       " '(loaded robq contb)',\n",
       " '(loaded robr conta)',\n",
       " '(loaded robr contb)',\n",
       " '(unloaded robq)',\n",
       " '(unloaded robr)'}"
      ]
     },
     "execution_count": 11,
     "metadata": {},
     "output_type": "execute_result"
    }
   ],
   "source": [
    "task.facts"
   ]
  },
  {
   "cell_type": "code",
   "execution_count": 16,
   "metadata": {},
   "outputs": [
    {
     "data": {
      "text/plain": [
       "frozenset({'(atl robq loc2)',\n",
       "           '(atl robr loc1)',\n",
       "           '(in conta loc1)',\n",
       "           '(in contb loc2)',\n",
       "           '(unloaded robq)',\n",
       "           '(unloaded robr)'})"
      ]
     },
     "execution_count": 16,
     "metadata": {},
     "output_type": "execute_result"
    }
   ],
   "source": [
    "task.initial_state"
   ]
  },
  {
   "cell_type": "code",
   "execution_count": 13,
   "metadata": {},
   "outputs": [
    {
     "data": {
      "text/plain": [
       "frozenset({'(in contb loc1)', '(loaded robr conta)'})"
      ]
     },
     "execution_count": 13,
     "metadata": {},
     "output_type": "execute_result"
    }
   ],
   "source": [
    "task.goals"
   ]
  },
  {
   "cell_type": "code",
   "execution_count": 14,
   "metadata": {},
   "outputs": [
    {
     "data": {
      "text/plain": [
       "False"
      ]
     },
     "execution_count": 14,
     "metadata": {},
     "output_type": "execute_result"
    }
   ],
   "source": [
    "task.goal_reached(task.initial_state)"
   ]
  },
  {
   "cell_type": "code",
   "execution_count": 23,
   "metadata": {},
   "outputs": [
    {
     "data": {
      "text/plain": [
       "[(<Op (move robr loc1 loc2)>,\n",
       "  frozenset({'(atl robq loc2)',\n",
       "             '(atl robr loc2)',\n",
       "             '(in conta loc1)',\n",
       "             '(in contb loc2)',\n",
       "             '(unloaded robq)',\n",
       "             '(unloaded robr)'})),\n",
       " (<Op (move robq loc2 loc1)>,\n",
       "  frozenset({'(atl robq loc1)',\n",
       "             '(atl robr loc1)',\n",
       "             '(in conta loc1)',\n",
       "             '(in contb loc2)',\n",
       "             '(unloaded robq)',\n",
       "             '(unloaded robr)'})),\n",
       " (<Op (load loc2 contb robq)>,\n",
       "  frozenset({'(atl robq loc2)',\n",
       "             '(atl robr loc1)',\n",
       "             '(in conta loc1)',\n",
       "             '(loaded robq contb)',\n",
       "             '(unloaded robr)'})),\n",
       " (<Op (load loc1 conta robr)>,\n",
       "  frozenset({'(atl robq loc2)',\n",
       "             '(atl robr loc1)',\n",
       "             '(in contb loc2)',\n",
       "             '(loaded robr conta)',\n",
       "             '(unloaded robq)'}))]"
      ]
     },
     "execution_count": 23,
     "metadata": {},
     "output_type": "execute_result"
    }
   ],
   "source": [
    "task.get_successor_states(frozenset(task.initial_state))"
   ]
  },
  {
   "cell_type": "code",
   "execution_count": 15,
   "metadata": {},
   "outputs": [
    {
     "data": {
      "text/plain": [
       "[<Op (move robq loc1 loc2)>,\n",
       " <Op (move robq loc2 loc1)>,\n",
       " <Op (move robr loc1 loc2)>,\n",
       " <Op (move robr loc2 loc1)>,\n",
       " <Op (load loc1 conta robq)>,\n",
       " <Op (load loc1 conta robr)>,\n",
       " <Op (load loc1 contb robq)>,\n",
       " <Op (load loc1 contb robr)>,\n",
       " <Op (load loc2 conta robq)>,\n",
       " <Op (load loc2 conta robr)>,\n",
       " <Op (load loc2 contb robq)>,\n",
       " <Op (load loc2 contb robr)>,\n",
       " <Op (unload loc1 conta robq)>,\n",
       " <Op (unload loc1 conta robr)>,\n",
       " <Op (unload loc1 contb robq)>,\n",
       " <Op (unload loc1 contb robr)>,\n",
       " <Op (unload loc2 conta robq)>,\n",
       " <Op (unload loc2 conta robr)>,\n",
       " <Op (unload loc2 contb robq)>,\n",
       " <Op (unload loc2 contb robr)>]"
      ]
     },
     "execution_count": 15,
     "metadata": {},
     "output_type": "execute_result"
    }
   ],
   "source": [
    "task.operators"
   ]
  },
  {
   "cell_type": "markdown",
   "metadata": {},
   "source": [
    "# HEURISTIC"
   ]
  },
  {
   "cell_type": "code",
   "execution_count": 16,
   "metadata": {},
   "outputs": [],
   "source": [
    "from pyperplan import get_heuristics, _get_heuristic_name"
   ]
  },
  {
   "cell_type": "code",
   "execution_count": 17,
   "metadata": {},
   "outputs": [],
   "source": [
    "HEURISTICS = {_get_heuristic_name(heur): heur for heur in get_heuristics()}"
   ]
  },
  {
   "cell_type": "code",
   "execution_count": 18,
   "metadata": {},
   "outputs": [
    {
     "data": {
      "text/plain": [
       "{'blind': blind.BlindHeuristic,\n",
       " 'hadd': relaxation.hAddHeuristic,\n",
       " 'hff': relaxation.hFFHeuristic,\n",
       " 'hmax': relaxation.hMaxHeuristic,\n",
       " 'hsa': relaxation.hSAHeuristic,\n",
       " 'lmcut': lm_cut.LmCutHeuristic,\n",
       " 'landmark': landmarks.LandmarkHeuristic}"
      ]
     },
     "execution_count": 18,
     "metadata": {},
     "output_type": "execute_result"
    }
   ],
   "source": [
    "# These are just heuristic classes\n",
    "HEURISTICS"
   ]
  },
  {
   "cell_type": "code",
   "execution_count": 19,
   "metadata": {},
   "outputs": [],
   "source": [
    "# Defines the heuristic for this task? \n",
    "h = HEURISTICS['hmax'](task)"
   ]
  },
  {
   "cell_type": "code",
   "execution_count": 20,
   "metadata": {},
   "outputs": [
    {
     "data": {
      "text/plain": [
       "<relaxation.hMaxHeuristic at 0x7f3cb44349b0>"
      ]
     },
     "execution_count": 20,
     "metadata": {},
     "output_type": "execute_result"
    }
   ],
   "source": [
    "h"
   ]
  },
  {
   "cell_type": "markdown",
   "metadata": {},
   "source": [
    "# SEARCH"
   ]
  },
  {
   "cell_type": "code",
   "execution_count": 21,
   "metadata": {},
   "outputs": [],
   "source": [
    "from pyperplan import search"
   ]
  },
  {
   "cell_type": "code",
   "execution_count": 22,
   "metadata": {},
   "outputs": [],
   "source": [
    "SEARCHES = {\n",
    "    'astar': search.astar_search,\n",
    "    'wastar': search.weighted_astar_search,\n",
    "    'gbf': search.greedy_best_first_search,\n",
    "    'bfs': search.breadth_first_search,\n",
    "    'ehs': search.enforced_hillclimbing_search,\n",
    "    'ids': search.iterative_deepening_search,\n",
    "    'sat': search.sat_solve,\n",
    "}"
   ]
  },
  {
   "cell_type": "code",
   "execution_count": 24,
   "metadata": {},
   "outputs": [],
   "source": [
    "solution = SEARCHES['astar'](task, h)"
   ]
  },
  {
   "cell_type": "code",
   "execution_count": 25,
   "metadata": {},
   "outputs": [
    {
     "data": {
      "text/plain": [
       "[<Op (load loc2 contb robq)>,\n",
       " <Op (move robq loc2 loc1)>,\n",
       " <Op (load loc1 conta robr)>,\n",
       " <Op (unload loc1 contb robq)>]"
      ]
     },
     "execution_count": 25,
     "metadata": {},
     "output_type": "execute_result"
    }
   ],
   "source": [
    "solution"
   ]
  },
  {
   "cell_type": "code",
   "execution_count": 26,
   "metadata": {},
   "outputs": [
    {
     "data": {
      "text/plain": [
       "['(load loc2 contb robq)',\n",
       " '(move robq loc2 loc1)',\n",
       " '(load loc1 conta robr)',\n",
       " '(unload loc1 contb robq)']"
      ]
     },
     "execution_count": 26,
     "metadata": {},
     "output_type": "execute_result"
    }
   ],
   "source": [
    "[op.name for op in solution]"
   ]
  },
  {
   "cell_type": "markdown",
   "metadata": {},
   "source": [
    "# VALIDATE SOLUTION"
   ]
  },
  {
   "cell_type": "code",
   "execution_count": 49,
   "metadata": {},
   "outputs": [],
   "source": [
    "from pyperplan import _write_solution\n",
    "import subprocess"
   ]
  },
  {
   "cell_type": "code",
   "execution_count": 50,
   "metadata": {},
   "outputs": [],
   "source": [
    "_write_solution(solution,'testsolution.txt')"
   ]
  },
  {
   "cell_type": "code",
   "execution_count": 51,
   "metadata": {},
   "outputs": [],
   "source": [
    "exitcode = subprocess.call(['./validate', 'testdomain.pddl','testinstance.pddl','testsolution.txt'], stdout=subprocess.PIPE)"
   ]
  },
  {
   "cell_type": "code",
   "execution_count": 52,
   "metadata": {},
   "outputs": [
    {
     "name": "stdout",
     "output_type": "stream",
     "text": [
      "Plan correct!\n"
     ]
    }
   ],
   "source": [
    "if exitcode == 0:\n",
    "    print('Plan correct!')\n",
    "else:\n",
    "    print('Plan NOT correct!')"
   ]
  },
  {
   "cell_type": "code",
   "execution_count": null,
   "metadata": {},
   "outputs": [],
   "source": []
  }
 ],
 "metadata": {
  "kernelspec": {
   "display_name": "Python 3",
   "language": "python",
   "name": "python3"
  },
  "language_info": {
   "codemirror_mode": {
    "name": "ipython",
    "version": 3
   },
   "file_extension": ".py",
   "mimetype": "text/x-python",
   "name": "python",
   "nbconvert_exporter": "python",
   "pygments_lexer": "ipython3",
   "version": "3.6.5"
  }
 },
 "nbformat": 4,
 "nbformat_minor": 2
}
