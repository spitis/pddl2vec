{
 "cells": [
  {
   "cell_type": "code",
   "execution_count": 52,
   "metadata": {},
   "outputs": [],
   "source": [
    "from pyperplan import _parse"
   ]
  },
  {
   "cell_type": "markdown",
   "metadata": {},
   "source": [
    "# LOADING A PROBLEM"
   ]
  },
  {
   "cell_type": "code",
   "execution_count": 89,
   "metadata": {},
   "outputs": [],
   "source": [
    "problem = _parse(domain_file='pddl_files/modded_transport/domain.pddl',\n",
    "                 problem_file='pddl_files/modded_transport/ptest5.pddl')"
   ]
  },
  {
   "cell_type": "code",
   "execution_count": 90,
   "metadata": {},
   "outputs": [
    {
     "data": {
      "text/plain": [
       "[capacity-predecessor[('capacity-0', capacity-number), ('capacity-1', capacity-number)],\n",
       " capacity-predecessor[('capacity-1', capacity-number), ('capacity-2', capacity-number)],\n",
       " road[('city-loc-3', location), ('city-loc-1', location)],\n",
       " road[('city-loc-1', location), ('city-loc-3', location)],\n",
       " road[('city-loc-2', location), ('city-loc-3', location)],\n",
       " road[('city-loc-3', location), ('city-loc-2', location)],\n",
       " road[('city-loc-4', location), ('city-loc-3', location)],\n",
       " road[('city-loc-3', location), ('city-loc-4', location)],\n",
       " road[('city-loc-5', location), ('city-loc-1', location)],\n",
       " road[('city-loc-1', location), ('city-loc-5', location)],\n",
       " road[('city-loc-5', location), ('city-loc-3', location)],\n",
       " at[('package-1', package), ('city-loc-1', location)],\n",
       " at[('package-2', package), ('city-loc-2', location)],\n",
       " at[('package-3', package), ('city-loc-4', location)],\n",
       " at[('package-4', package), ('city-loc-1', location)],\n",
       " at[('package-5', package), ('city-loc-2', location)],\n",
       " at[('truck-1', vehicle), ('city-loc-3', location)],\n",
       " capacity[('truck-1', vehicle), ('capacity-2', capacity-number)],\n",
       " at[('truck-2', vehicle), ('city-loc-1', location)],\n",
       " capacity[('truck-2', vehicle), ('capacity-2', capacity-number)]]"
      ]
     },
     "execution_count": 90,
     "metadata": {},
     "output_type": "execute_result"
    }
   ],
   "source": [
    "problem.initial_state"
   ]
  },
  {
   "cell_type": "code",
   "execution_count": 91,
   "metadata": {},
   "outputs": [
    {
     "data": {
      "text/plain": [
       "'transport-city-sequential-40nodes-1000size-4degree-100mindistance-4trucks-16packages-2008seed'"
      ]
     },
     "execution_count": 91,
     "metadata": {},
     "output_type": "execute_result"
    }
   ],
   "source": [
    "problem.name"
   ]
  },
  {
   "cell_type": "code",
   "execution_count": 92,
   "metadata": {},
   "outputs": [
    {
     "data": {
      "text/plain": [
       "{'city-loc-1': location,\n",
       " 'city-loc-2': location,\n",
       " 'city-loc-3': location,\n",
       " 'city-loc-4': location,\n",
       " 'city-loc-5': location,\n",
       " 'truck-1': vehicle,\n",
       " 'truck-2': vehicle,\n",
       " 'package-1': package,\n",
       " 'package-2': package,\n",
       " 'package-3': package,\n",
       " 'package-4': package,\n",
       " 'package-5': package,\n",
       " 'capacity-0': capacity-number,\n",
       " 'capacity-1': capacity-number,\n",
       " 'capacity-2': capacity-number,\n",
       " 'capacity-3': capacity-number,\n",
       " 'capacity-4': capacity-number}"
      ]
     },
     "execution_count": 92,
     "metadata": {},
     "output_type": "execute_result"
    }
   ],
   "source": [
    "problem.objects"
   ]
  },
  {
   "cell_type": "code",
   "execution_count": 93,
   "metadata": {},
   "outputs": [
    {
     "data": {
      "text/plain": [
       "[at[('package-1', (locatable,)), ('city-loc-3', (location,))],\n",
       " at[('package-2', (locatable,)), ('city-loc-3', (location,))],\n",
       " at[('package-3', (locatable,)), ('city-loc-5', (location,))],\n",
       " at[('package-4', (locatable,)), ('city-loc-5', (location,))],\n",
       " at[('package-5', (locatable,)), ('city-loc-5', (location,))]]"
      ]
     },
     "execution_count": 93,
     "metadata": {},
     "output_type": "execute_result"
    }
   ],
   "source": [
    "problem.goal"
   ]
  },
  {
   "cell_type": "code",
   "execution_count": 94,
   "metadata": {},
   "outputs": [
    {
     "name": "stdout",
     "output_type": "stream",
     "text": [
      "road\n",
      "at\n",
      "capacity\n",
      "capacity-predecessor\n"
     ]
    },
    {
     "data": {
      "text/plain": [
       "[None, None, None, None]"
      ]
     },
     "execution_count": 94,
     "metadata": {},
     "output_type": "execute_result"
    }
   ],
   "source": [
    "[print(pred) for pred in problem.domain.predicates]"
   ]
  },
  {
   "cell_type": "markdown",
   "metadata": {},
   "source": [
    "# GROUNDING(?) IT"
   ]
  },
  {
   "cell_type": "code",
   "execution_count": 95,
   "metadata": {},
   "outputs": [],
   "source": [
    "from pyperplan import _ground"
   ]
  },
  {
   "cell_type": "code",
   "execution_count": 96,
   "metadata": {},
   "outputs": [],
   "source": [
    "task = _ground(problem)"
   ]
  },
  {
   "cell_type": "code",
   "execution_count": 97,
   "metadata": {},
   "outputs": [
    {
     "data": {
      "text/plain": [
       "<Task transport-city-sequential-40nodes-1000size-4degree-100mindistance-4trucks-16packages-2008seed, vars: 51, operators: 218>"
      ]
     },
     "execution_count": 97,
     "metadata": {},
     "output_type": "execute_result"
    }
   ],
   "source": [
    "task"
   ]
  },
  {
   "cell_type": "code",
   "execution_count": 98,
   "metadata": {},
   "outputs": [
    {
     "data": {
      "text/plain": [
       "51"
      ]
     },
     "execution_count": 98,
     "metadata": {},
     "output_type": "execute_result"
    }
   ],
   "source": [
    "len(task.facts)"
   ]
  },
  {
   "cell_type": "code",
   "execution_count": 99,
   "metadata": {},
   "outputs": [
    {
     "data": {
      "text/plain": [
       "frozenset({'(at package-1 city-loc-1)',\n",
       "           '(at package-2 city-loc-2)',\n",
       "           '(at package-3 city-loc-4)',\n",
       "           '(at package-4 city-loc-1)',\n",
       "           '(at package-5 city-loc-2)',\n",
       "           '(at truck-1 city-loc-3)',\n",
       "           '(at truck-2 city-loc-1)',\n",
       "           '(capacity truck-1 capacity-2)',\n",
       "           '(capacity truck-2 capacity-2)'})"
      ]
     },
     "execution_count": 99,
     "metadata": {},
     "output_type": "execute_result"
    }
   ],
   "source": [
    "task.initial_state"
   ]
  },
  {
   "cell_type": "code",
   "execution_count": 100,
   "metadata": {},
   "outputs": [
    {
     "data": {
      "text/plain": [
       "frozenset({'(at package-1 city-loc-3)',\n",
       "           '(at package-2 city-loc-3)',\n",
       "           '(at package-3 city-loc-5)',\n",
       "           '(at package-4 city-loc-5)',\n",
       "           '(at package-5 city-loc-5)'})"
      ]
     },
     "execution_count": 100,
     "metadata": {},
     "output_type": "execute_result"
    }
   ],
   "source": [
    "task.goals"
   ]
  },
  {
   "cell_type": "code",
   "execution_count": 101,
   "metadata": {},
   "outputs": [
    {
     "data": {
      "text/plain": [
       "False"
      ]
     },
     "execution_count": 101,
     "metadata": {},
     "output_type": "execute_result"
    }
   ],
   "source": [
    "task.goal_reached(task.initial_state)"
   ]
  },
  {
   "cell_type": "code",
   "execution_count": 15,
   "metadata": {},
   "outputs": [
    {
     "data": {
      "text/plain": [
       "[(<Op (drive truck-1 city-loc-3 city-loc-2)>,\n",
       "  frozenset({'(at package-1 city-loc-1)',\n",
       "             '(at package-2 city-loc-2)',\n",
       "             '(at truck-1 city-loc-2)',\n",
       "             '(capacity truck-1 capacity-4)'})),\n",
       " (<Op (drive truck-1 city-loc-3 city-loc-1)>,\n",
       "  frozenset({'(at package-1 city-loc-1)',\n",
       "             '(at package-2 city-loc-2)',\n",
       "             '(at truck-1 city-loc-1)',\n",
       "             '(capacity truck-1 capacity-4)'}))]"
      ]
     },
     "execution_count": 15,
     "metadata": {},
     "output_type": "execute_result"
    }
   ],
   "source": [
    "task.get_successor_states(frozenset(task.initial_state))"
   ]
  },
  {
   "cell_type": "code",
   "execution_count": 16,
   "metadata": {},
   "outputs": [
    {
     "data": {
      "text/plain": [
       "[(<Op (drive truck-1 city-loc-3 city-loc-2)>,\n",
       "  frozenset({'(at package-1 city-loc-1)',\n",
       "             '(at package-2 city-loc-2)',\n",
       "             '(at truck-1 city-loc-2)',\n",
       "             '(capacity truck-1 capacity-4)'})),\n",
       " (<Op (drive truck-1 city-loc-3 city-loc-1)>,\n",
       "  frozenset({'(at package-1 city-loc-1)',\n",
       "             '(at package-2 city-loc-2)',\n",
       "             '(at truck-1 city-loc-1)',\n",
       "             '(capacity truck-1 capacity-4)'}))]"
      ]
     },
     "execution_count": 16,
     "metadata": {},
     "output_type": "execute_result"
    }
   ],
   "source": [
    "task.get_successor_states(task.initial_state)"
   ]
  },
  {
   "cell_type": "code",
   "execution_count": 17,
   "metadata": {},
   "outputs": [
    {
     "data": {
      "text/plain": [
       "[<Op (drive truck-1 city-loc-3 city-loc-2)>,\n",
       " <Op (drive truck-1 city-loc-3 city-loc-1)>,\n",
       " <Op (drive truck-1 city-loc-2 city-loc-3)>,\n",
       " <Op (drive truck-1 city-loc-1 city-loc-3)>,\n",
       " <Op (pick-up truck-1 city-loc-3 package-2 capacity-2 capacity-3)>,\n",
       " <Op (pick-up truck-1 city-loc-3 package-2 capacity-1 capacity-2)>,\n",
       " <Op (pick-up truck-1 city-loc-3 package-2 capacity-0 capacity-1)>,\n",
       " <Op (pick-up truck-1 city-loc-3 package-2 capacity-3 capacity-4)>,\n",
       " <Op (pick-up truck-1 city-loc-3 package-1 capacity-2 capacity-3)>,\n",
       " <Op (pick-up truck-1 city-loc-3 package-1 capacity-1 capacity-2)>,\n",
       " <Op (pick-up truck-1 city-loc-3 package-1 capacity-0 capacity-1)>,\n",
       " <Op (pick-up truck-1 city-loc-3 package-1 capacity-3 capacity-4)>,\n",
       " <Op (pick-up truck-1 city-loc-2 package-2 capacity-2 capacity-3)>,\n",
       " <Op (pick-up truck-1 city-loc-2 package-2 capacity-1 capacity-2)>,\n",
       " <Op (pick-up truck-1 city-loc-2 package-2 capacity-0 capacity-1)>,\n",
       " <Op (pick-up truck-1 city-loc-2 package-2 capacity-3 capacity-4)>,\n",
       " <Op (pick-up truck-1 city-loc-2 package-1 capacity-2 capacity-3)>,\n",
       " <Op (pick-up truck-1 city-loc-2 package-1 capacity-1 capacity-2)>,\n",
       " <Op (pick-up truck-1 city-loc-2 package-1 capacity-0 capacity-1)>,\n",
       " <Op (pick-up truck-1 city-loc-2 package-1 capacity-3 capacity-4)>,\n",
       " <Op (pick-up truck-1 city-loc-1 package-2 capacity-2 capacity-3)>,\n",
       " <Op (pick-up truck-1 city-loc-1 package-2 capacity-1 capacity-2)>,\n",
       " <Op (pick-up truck-1 city-loc-1 package-2 capacity-0 capacity-1)>,\n",
       " <Op (pick-up truck-1 city-loc-1 package-2 capacity-3 capacity-4)>,\n",
       " <Op (pick-up truck-1 city-loc-1 package-1 capacity-2 capacity-3)>,\n",
       " <Op (pick-up truck-1 city-loc-1 package-1 capacity-1 capacity-2)>,\n",
       " <Op (pick-up truck-1 city-loc-1 package-1 capacity-0 capacity-1)>,\n",
       " <Op (pick-up truck-1 city-loc-1 package-1 capacity-3 capacity-4)>,\n",
       " <Op (drop truck-1 city-loc-3 package-2 capacity-2 capacity-3)>,\n",
       " <Op (drop truck-1 city-loc-3 package-2 capacity-1 capacity-2)>,\n",
       " <Op (drop truck-1 city-loc-3 package-2 capacity-0 capacity-1)>,\n",
       " <Op (drop truck-1 city-loc-3 package-2 capacity-3 capacity-4)>,\n",
       " <Op (drop truck-1 city-loc-3 package-1 capacity-2 capacity-3)>,\n",
       " <Op (drop truck-1 city-loc-3 package-1 capacity-1 capacity-2)>,\n",
       " <Op (drop truck-1 city-loc-3 package-1 capacity-0 capacity-1)>,\n",
       " <Op (drop truck-1 city-loc-3 package-1 capacity-3 capacity-4)>,\n",
       " <Op (drop truck-1 city-loc-2 package-2 capacity-2 capacity-3)>,\n",
       " <Op (drop truck-1 city-loc-2 package-2 capacity-1 capacity-2)>,\n",
       " <Op (drop truck-1 city-loc-2 package-2 capacity-0 capacity-1)>,\n",
       " <Op (drop truck-1 city-loc-2 package-2 capacity-3 capacity-4)>,\n",
       " <Op (drop truck-1 city-loc-2 package-1 capacity-2 capacity-3)>,\n",
       " <Op (drop truck-1 city-loc-2 package-1 capacity-1 capacity-2)>,\n",
       " <Op (drop truck-1 city-loc-2 package-1 capacity-0 capacity-1)>,\n",
       " <Op (drop truck-1 city-loc-2 package-1 capacity-3 capacity-4)>,\n",
       " <Op (drop truck-1 city-loc-1 package-2 capacity-2 capacity-3)>,\n",
       " <Op (drop truck-1 city-loc-1 package-2 capacity-1 capacity-2)>,\n",
       " <Op (drop truck-1 city-loc-1 package-2 capacity-0 capacity-1)>,\n",
       " <Op (drop truck-1 city-loc-1 package-2 capacity-3 capacity-4)>,\n",
       " <Op (drop truck-1 city-loc-1 package-1 capacity-2 capacity-3)>,\n",
       " <Op (drop truck-1 city-loc-1 package-1 capacity-1 capacity-2)>,\n",
       " <Op (drop truck-1 city-loc-1 package-1 capacity-0 capacity-1)>,\n",
       " <Op (drop truck-1 city-loc-1 package-1 capacity-3 capacity-4)>]"
      ]
     },
     "execution_count": 17,
     "metadata": {},
     "output_type": "execute_result"
    }
   ],
   "source": [
    "task.operators"
   ]
  },
  {
   "cell_type": "markdown",
   "metadata": {},
   "source": [
    "# HEURISTIC"
   ]
  },
  {
   "cell_type": "code",
   "execution_count": 18,
   "metadata": {},
   "outputs": [],
   "source": [
    "from pyperplan import get_heuristics, _get_heuristic_name"
   ]
  },
  {
   "cell_type": "code",
   "execution_count": 19,
   "metadata": {},
   "outputs": [],
   "source": [
    "HEURISTICS = {_get_heuristic_name(heur): heur for heur in get_heuristics()}"
   ]
  },
  {
   "cell_type": "code",
   "execution_count": 20,
   "metadata": {},
   "outputs": [
    {
     "data": {
      "text/plain": [
       "{'node2vec': node2vec.Node2VecHeuristic,\n",
       " 'blind': blind.BlindHeuristic,\n",
       " 'hadd': relaxation.hAddHeuristic,\n",
       " 'hff': relaxation.hFFHeuristic,\n",
       " 'hmax': relaxation.hMaxHeuristic,\n",
       " 'hsa': relaxation.hSAHeuristic,\n",
       " 'lmcut': lm_cut.LmCutHeuristic,\n",
       " 'landmark': landmarks.LandmarkHeuristic}"
      ]
     },
     "execution_count": 20,
     "metadata": {},
     "output_type": "execute_result"
    }
   ],
   "source": [
    "# These are just heuristic classes\n",
    "HEURISTICS"
   ]
  },
  {
   "cell_type": "code",
   "execution_count": 21,
   "metadata": {},
   "outputs": [],
   "source": [
    "# Defines the heuristic for this task? \n",
    "h = HEURISTICS['hmax'](task)"
   ]
  },
  {
   "cell_type": "code",
   "execution_count": 22,
   "metadata": {},
   "outputs": [
    {
     "data": {
      "text/plain": [
       "<relaxation.hMaxHeuristic at 0x7f0100b4f320>"
      ]
     },
     "execution_count": 22,
     "metadata": {},
     "output_type": "execute_result"
    }
   ],
   "source": [
    "h"
   ]
  },
  {
   "cell_type": "markdown",
   "metadata": {},
   "source": [
    "# SEARCH"
   ]
  },
  {
   "cell_type": "code",
   "execution_count": 23,
   "metadata": {},
   "outputs": [],
   "source": [
    "from pyperplan import search"
   ]
  },
  {
   "cell_type": "code",
   "execution_count": 24,
   "metadata": {},
   "outputs": [],
   "source": [
    "SEARCHES = {\n",
    "    'astar': search.astar_search,\n",
    "    'wastar': search.weighted_astar_search,\n",
    "    'gbf': search.greedy_best_first_search,\n",
    "    'bfs': search.breadth_first_search,\n",
    "    'ehs': search.enforced_hillclimbing_search,\n",
    "    'ids': search.iterative_deepening_search,\n",
    "    'sat': search.sat_solve,\n",
    "}"
   ]
  },
  {
   "cell_type": "code",
   "execution_count": 36,
   "metadata": {},
   "outputs": [],
   "source": [
    "solution = SEARCHES['bfs'](task)#, h)"
   ]
  },
  {
   "cell_type": "code",
   "execution_count": 37,
   "metadata": {},
   "outputs": [
    {
     "data": {
      "text/plain": [
       "[<Op (drive truck-1 city-loc-3 city-loc-2)>,\n",
       " <Op (pick-up truck-1 city-loc-2 package-2 capacity-3 capacity-4)>,\n",
       " <Op (drive truck-1 city-loc-2 city-loc-3)>,\n",
       " <Op (drive truck-1 city-loc-3 city-loc-1)>,\n",
       " <Op (pick-up truck-1 city-loc-1 package-1 capacity-2 capacity-3)>,\n",
       " <Op (drive truck-1 city-loc-1 city-loc-3)>,\n",
       " <Op (drop truck-1 city-loc-3 package-2 capacity-2 capacity-3)>,\n",
       " <Op (drop truck-1 city-loc-3 package-1 capacity-3 capacity-4)>]"
      ]
     },
     "execution_count": 37,
     "metadata": {},
     "output_type": "execute_result"
    }
   ],
   "source": [
    "solution"
   ]
  },
  {
   "cell_type": "code",
   "execution_count": 39,
   "metadata": {},
   "outputs": [
    {
     "data": {
      "text/plain": [
       "['(drive truck-1 city-loc-3 city-loc-2)',\n",
       " '(pick-up truck-1 city-loc-2 package-2 capacity-3 capacity-4)',\n",
       " '(drive truck-1 city-loc-2 city-loc-3)',\n",
       " '(drive truck-1 city-loc-3 city-loc-1)',\n",
       " '(pick-up truck-1 city-loc-1 package-1 capacity-2 capacity-3)',\n",
       " '(drive truck-1 city-loc-1 city-loc-3)',\n",
       " '(drop truck-1 city-loc-3 package-2 capacity-2 capacity-3)',\n",
       " '(drop truck-1 city-loc-3 package-1 capacity-3 capacity-4)']"
      ]
     },
     "execution_count": 39,
     "metadata": {},
     "output_type": "execute_result"
    }
   ],
   "source": [
    "[op.name for op in solution]"
   ]
  },
  {
   "cell_type": "markdown",
   "metadata": {},
   "source": [
    "# VALIDATE SOLUTION"
   ]
  },
  {
   "cell_type": "code",
   "execution_count": 40,
   "metadata": {},
   "outputs": [],
   "source": [
    "from pyperplan import _write_solution\n",
    "import subprocess"
   ]
  },
  {
   "cell_type": "code",
   "execution_count": 41,
   "metadata": {},
   "outputs": [],
   "source": [
    "_write_solution(solution,'testsolution.txt')"
   ]
  },
  {
   "cell_type": "code",
   "execution_count": 42,
   "metadata": {},
   "outputs": [],
   "source": [
    "exitcode = subprocess.call(['./validate', 'testdomain.pddl','testinstance.pddl','testsolution.txt'], stdout=subprocess.PIPE)"
   ]
  },
  {
   "cell_type": "code",
   "execution_count": 43,
   "metadata": {},
   "outputs": [
    {
     "name": "stdout",
     "output_type": "stream",
     "text": [
      "Plan correct!\n"
     ]
    }
   ],
   "source": [
    "if exitcode == 0:\n",
    "    print('Plan correct!')\n",
    "else:\n",
    "    print('Plan NOT correct!')"
   ]
  },
  {
   "cell_type": "code",
   "execution_count": null,
   "metadata": {},
   "outputs": [],
   "source": []
  }
 ],
 "metadata": {
  "kernelspec": {
   "display_name": "Python 3",
   "language": "python",
   "name": "python3"
  },
  "language_info": {
   "codemirror_mode": {
    "name": "ipython",
    "version": 3
   },
   "file_extension": ".py",
   "mimetype": "text/x-python",
   "name": "python",
   "nbconvert_exporter": "python",
   "pygments_lexer": "ipython3",
   "version": "3.6.5"
  }
 },
 "nbformat": 4,
 "nbformat_minor": 2
}
