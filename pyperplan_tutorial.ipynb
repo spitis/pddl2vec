{
 "cells": [
  {
   "cell_type": "code",
   "execution_count": 1,
   "metadata": {},
   "outputs": [],
   "source": [
    "from pyperplan import _parse"
   ]
  },
  {
   "cell_type": "markdown",
   "metadata": {},
   "source": [
    "# LOADING A PROBLEM"
   ]
  },
  {
   "cell_type": "code",
   "execution_count": 251,
   "metadata": {},
   "outputs": [],
   "source": [
    "problem = _parse(domain_file='pddl_files/modded_transport/domain.pddl',\n",
    "                 problem_file='pddl_files/modded_transport/51/p11.pddl')"
   ]
  },
  {
   "cell_type": "code",
   "execution_count": 252,
   "metadata": {},
   "outputs": [
    {
     "data": {
      "text/plain": [
       "[capacity-predecessor[('capacity-0', capacity-number), ('capacity-1', capacity-number)],\n",
       " capacity-predecessor[('capacity-1', capacity-number), ('capacity-2', capacity-number)],\n",
       " capacity-predecessor[('capacity-2', capacity-number), ('capacity-3', capacity-number)],\n",
       " capacity-predecessor[('capacity-3', capacity-number), ('capacity-4', capacity-number)],\n",
       " road[('city-1-loc-3', location), ('city-1-loc-1', location)],\n",
       " road[('city-1-loc-1', location), ('city-1-loc-3', location)],\n",
       " road[('city-1-loc-3', location), ('city-1-loc-2', location)],\n",
       " road[('city-1-loc-2', location), ('city-1-loc-3', location)],\n",
       " road[('city-2-loc-2', location), ('city-2-loc-1', location)],\n",
       " road[('city-2-loc-1', location), ('city-2-loc-2', location)],\n",
       " road[('city-2-loc-3', location), ('city-2-loc-1', location)],\n",
       " road[('city-2-loc-1', location), ('city-2-loc-3', location)],\n",
       " road[('city-2-loc-3', location), ('city-2-loc-2', location)],\n",
       " road[('city-2-loc-2', location), ('city-2-loc-3', location)],\n",
       " road[('city-1-loc-1', location), ('city-2-loc-3', location)],\n",
       " road[('city-2-loc-3', location), ('city-1-loc-1', location)],\n",
       " at[('package-1', package), ('city-1-loc-2', location)],\n",
       " at[('package-2', package), ('city-1-loc-2', location)],\n",
       " at[('truck-1', vehicle), ('city-2-loc-2', location)],\n",
       " capacity[('truck-1', vehicle), ('capacity-3', capacity-number)],\n",
       " at[('truck-2', vehicle), ('city-2-loc-1', location)],\n",
       " capacity[('truck-2', vehicle), ('capacity-3', capacity-number)]]"
      ]
     },
     "execution_count": 252,
     "metadata": {},
     "output_type": "execute_result"
    }
   ],
   "source": [
    "problem.initial_state"
   ]
  },
  {
   "cell_type": "code",
   "execution_count": 253,
   "metadata": {},
   "outputs": [
    {
     "data": {
      "text/plain": [
       "'transport-two-cities-sequential-3nodes-1000size-2degree-100mindistance-2trucks-2packages-2008seed'"
      ]
     },
     "execution_count": 253,
     "metadata": {},
     "output_type": "execute_result"
    }
   ],
   "source": [
    "problem.name"
   ]
  },
  {
   "cell_type": "code",
   "execution_count": 254,
   "metadata": {},
   "outputs": [
    {
     "data": {
      "text/plain": [
       "{'city-1-loc-1': location,\n",
       " 'city-2-loc-1': location,\n",
       " 'city-1-loc-2': location,\n",
       " 'city-2-loc-2': location,\n",
       " 'city-1-loc-3': location,\n",
       " 'city-2-loc-3': location,\n",
       " 'truck-1': vehicle,\n",
       " 'truck-2': vehicle,\n",
       " 'package-1': package,\n",
       " 'package-2': package,\n",
       " 'capacity-0': capacity-number,\n",
       " 'capacity-1': capacity-number,\n",
       " 'capacity-2': capacity-number,\n",
       " 'capacity-3': capacity-number,\n",
       " 'capacity-4': capacity-number}"
      ]
     },
     "execution_count": 254,
     "metadata": {},
     "output_type": "execute_result"
    }
   ],
   "source": [
    "problem.objects"
   ]
  },
  {
   "cell_type": "code",
   "execution_count": 255,
   "metadata": {},
   "outputs": [
    {
     "data": {
      "text/plain": [
       "[at[('package-1', (locatable,)), ('city-2-loc-3', (location,))],\n",
       " at[('package-2', (locatable,)), ('city-2-loc-3', (location,))]]"
      ]
     },
     "execution_count": 255,
     "metadata": {},
     "output_type": "execute_result"
    }
   ],
   "source": [
    "problem.goal"
   ]
  },
  {
   "cell_type": "code",
   "execution_count": 256,
   "metadata": {},
   "outputs": [
    {
     "name": "stdout",
     "output_type": "stream",
     "text": [
      "road\n",
      "at\n",
      "capacity\n",
      "capacity-predecessor\n"
     ]
    },
    {
     "data": {
      "text/plain": [
       "[None, None, None, None]"
      ]
     },
     "execution_count": 256,
     "metadata": {},
     "output_type": "execute_result"
    }
   ],
   "source": [
    "[print(pred) for pred in problem.domain.predicates]"
   ]
  },
  {
   "cell_type": "markdown",
   "metadata": {},
   "source": [
    "# GROUNDING(?) IT"
   ]
  },
  {
   "cell_type": "code",
   "execution_count": 257,
   "metadata": {},
   "outputs": [],
   "source": [
    "from pyperplan import _ground"
   ]
  },
  {
   "cell_type": "code",
   "execution_count": 258,
   "metadata": {},
   "outputs": [],
   "source": [
    "task = _ground(problem)"
   ]
  },
  {
   "cell_type": "code",
   "execution_count": 259,
   "metadata": {},
   "outputs": [
    {
     "data": {
      "text/plain": [
       "<Task transport-two-cities-sequential-3nodes-1000size-2degree-100mindistance-2trucks-2packages-2008seed, vars: 38, operators: 216>"
      ]
     },
     "execution_count": 259,
     "metadata": {},
     "output_type": "execute_result"
    }
   ],
   "source": [
    "task"
   ]
  },
  {
   "cell_type": "code",
   "execution_count": 260,
   "metadata": {},
   "outputs": [
    {
     "data": {
      "text/plain": [
       "38"
      ]
     },
     "execution_count": 260,
     "metadata": {},
     "output_type": "execute_result"
    }
   ],
   "source": [
    "len(task.facts)"
   ]
  },
  {
   "cell_type": "code",
   "execution_count": 261,
   "metadata": {},
   "outputs": [
    {
     "data": {
      "text/plain": [
       "frozenset({'(at package-1 city-1-loc-2)',\n",
       "           '(at package-2 city-1-loc-2)',\n",
       "           '(at truck-1 city-2-loc-2)',\n",
       "           '(at truck-2 city-2-loc-1)',\n",
       "           '(capacity truck-1 capacity-3)',\n",
       "           '(capacity truck-2 capacity-3)'})"
      ]
     },
     "execution_count": 261,
     "metadata": {},
     "output_type": "execute_result"
    }
   ],
   "source": [
    "task.initial_state"
   ]
  },
  {
   "cell_type": "code",
   "execution_count": 262,
   "metadata": {},
   "outputs": [
    {
     "data": {
      "text/plain": [
       "frozenset({'(at package-1 city-2-loc-3)', '(at package-2 city-2-loc-3)'})"
      ]
     },
     "execution_count": 262,
     "metadata": {},
     "output_type": "execute_result"
    }
   ],
   "source": [
    "task.goals"
   ]
  },
  {
   "cell_type": "code",
   "execution_count": 263,
   "metadata": {},
   "outputs": [
    {
     "data": {
      "text/plain": [
       "False"
      ]
     },
     "execution_count": 263,
     "metadata": {},
     "output_type": "execute_result"
    }
   ],
   "source": [
    "task.goal_reached(task.initial_state)"
   ]
  },
  {
   "cell_type": "code",
   "execution_count": 264,
   "metadata": {},
   "outputs": [
    {
     "data": {
      "text/plain": [
       "[(<Op (drive truck-1 city-2-loc-2 city-2-loc-1)>,\n",
       "  frozenset({'(at package-1 city-1-loc-2)',\n",
       "             '(at package-2 city-1-loc-2)',\n",
       "             '(at truck-1 city-2-loc-1)',\n",
       "             '(at truck-2 city-2-loc-1)',\n",
       "             '(capacity truck-1 capacity-3)',\n",
       "             '(capacity truck-2 capacity-3)'})),\n",
       " (<Op (drive truck-1 city-2-loc-2 city-2-loc-3)>,\n",
       "  frozenset({'(at package-1 city-1-loc-2)',\n",
       "             '(at package-2 city-1-loc-2)',\n",
       "             '(at truck-1 city-2-loc-3)',\n",
       "             '(at truck-2 city-2-loc-1)',\n",
       "             '(capacity truck-1 capacity-3)',\n",
       "             '(capacity truck-2 capacity-3)'})),\n",
       " (<Op (drive truck-2 city-2-loc-1 city-2-loc-2)>,\n",
       "  frozenset({'(at package-1 city-1-loc-2)',\n",
       "             '(at package-2 city-1-loc-2)',\n",
       "             '(at truck-1 city-2-loc-2)',\n",
       "             '(at truck-2 city-2-loc-2)',\n",
       "             '(capacity truck-1 capacity-3)',\n",
       "             '(capacity truck-2 capacity-3)'})),\n",
       " (<Op (drive truck-2 city-2-loc-1 city-2-loc-3)>,\n",
       "  frozenset({'(at package-1 city-1-loc-2)',\n",
       "             '(at package-2 city-1-loc-2)',\n",
       "             '(at truck-1 city-2-loc-2)',\n",
       "             '(at truck-2 city-2-loc-3)',\n",
       "             '(capacity truck-1 capacity-3)',\n",
       "             '(capacity truck-2 capacity-3)'}))]"
      ]
     },
     "execution_count": 264,
     "metadata": {},
     "output_type": "execute_result"
    }
   ],
   "source": [
    "task.get_successor_states(frozenset(task.initial_state))"
   ]
  },
  {
   "cell_type": "code",
   "execution_count": 265,
   "metadata": {},
   "outputs": [
    {
     "data": {
      "text/plain": [
       "[(<Op (drive truck-1 city-2-loc-2 city-2-loc-1)>,\n",
       "  frozenset({'(at package-1 city-1-loc-2)',\n",
       "             '(at package-2 city-1-loc-2)',\n",
       "             '(at truck-1 city-2-loc-1)',\n",
       "             '(at truck-2 city-2-loc-1)',\n",
       "             '(capacity truck-1 capacity-3)',\n",
       "             '(capacity truck-2 capacity-3)'})),\n",
       " (<Op (drive truck-1 city-2-loc-2 city-2-loc-3)>,\n",
       "  frozenset({'(at package-1 city-1-loc-2)',\n",
       "             '(at package-2 city-1-loc-2)',\n",
       "             '(at truck-1 city-2-loc-3)',\n",
       "             '(at truck-2 city-2-loc-1)',\n",
       "             '(capacity truck-1 capacity-3)',\n",
       "             '(capacity truck-2 capacity-3)'})),\n",
       " (<Op (drive truck-2 city-2-loc-1 city-2-loc-2)>,\n",
       "  frozenset({'(at package-1 city-1-loc-2)',\n",
       "             '(at package-2 city-1-loc-2)',\n",
       "             '(at truck-1 city-2-loc-2)',\n",
       "             '(at truck-2 city-2-loc-2)',\n",
       "             '(capacity truck-1 capacity-3)',\n",
       "             '(capacity truck-2 capacity-3)'})),\n",
       " (<Op (drive truck-2 city-2-loc-1 city-2-loc-3)>,\n",
       "  frozenset({'(at package-1 city-1-loc-2)',\n",
       "             '(at package-2 city-1-loc-2)',\n",
       "             '(at truck-1 city-2-loc-2)',\n",
       "             '(at truck-2 city-2-loc-3)',\n",
       "             '(capacity truck-1 capacity-3)',\n",
       "             '(capacity truck-2 capacity-3)'}))]"
      ]
     },
     "execution_count": 265,
     "metadata": {},
     "output_type": "execute_result"
    }
   ],
   "source": [
    "task.get_successor_states(task.initial_state)"
   ]
  },
  {
   "cell_type": "code",
   "execution_count": 266,
   "metadata": {},
   "outputs": [
    {
     "data": {
      "text/plain": [
       "[<Op (drive truck-1 city-2-loc-2 city-2-loc-1)>,\n",
       " <Op (drive truck-1 city-2-loc-2 city-2-loc-3)>,\n",
       " <Op (drive truck-1 city-1-loc-2 city-1-loc-3)>,\n",
       " <Op (drive truck-1 city-1-loc-3 city-1-loc-2)>,\n",
       " <Op (drive truck-1 city-1-loc-3 city-1-loc-1)>,\n",
       " <Op (drive truck-1 city-2-loc-1 city-2-loc-2)>,\n",
       " <Op (drive truck-1 city-2-loc-1 city-2-loc-3)>,\n",
       " <Op (drive truck-1 city-2-loc-3 city-2-loc-2)>,\n",
       " <Op (drive truck-1 city-2-loc-3 city-2-loc-1)>,\n",
       " <Op (drive truck-1 city-2-loc-3 city-1-loc-1)>,\n",
       " <Op (drive truck-1 city-1-loc-1 city-1-loc-3)>,\n",
       " <Op (drive truck-1 city-1-loc-1 city-2-loc-3)>,\n",
       " <Op (drive truck-2 city-2-loc-2 city-2-loc-1)>,\n",
       " <Op (drive truck-2 city-2-loc-2 city-2-loc-3)>,\n",
       " <Op (drive truck-2 city-1-loc-2 city-1-loc-3)>,\n",
       " <Op (drive truck-2 city-1-loc-3 city-1-loc-2)>,\n",
       " <Op (drive truck-2 city-1-loc-3 city-1-loc-1)>,\n",
       " <Op (drive truck-2 city-2-loc-1 city-2-loc-2)>,\n",
       " <Op (drive truck-2 city-2-loc-1 city-2-loc-3)>,\n",
       " <Op (drive truck-2 city-2-loc-3 city-2-loc-2)>,\n",
       " <Op (drive truck-2 city-2-loc-3 city-2-loc-1)>,\n",
       " <Op (drive truck-2 city-2-loc-3 city-1-loc-1)>,\n",
       " <Op (drive truck-2 city-1-loc-1 city-1-loc-3)>,\n",
       " <Op (drive truck-2 city-1-loc-1 city-2-loc-3)>,\n",
       " <Op (pick-up truck-1 city-2-loc-2 package-1 capacity-1 capacity-2)>,\n",
       " <Op (pick-up truck-1 city-2-loc-2 package-1 capacity-0 capacity-1)>,\n",
       " <Op (pick-up truck-1 city-2-loc-2 package-1 capacity-2 capacity-3)>,\n",
       " <Op (pick-up truck-1 city-2-loc-2 package-1 capacity-3 capacity-4)>,\n",
       " <Op (pick-up truck-1 city-2-loc-2 package-2 capacity-1 capacity-2)>,\n",
       " <Op (pick-up truck-1 city-2-loc-2 package-2 capacity-0 capacity-1)>,\n",
       " <Op (pick-up truck-1 city-2-loc-2 package-2 capacity-2 capacity-3)>,\n",
       " <Op (pick-up truck-1 city-2-loc-2 package-2 capacity-3 capacity-4)>,\n",
       " <Op (pick-up truck-1 city-1-loc-2 package-1 capacity-1 capacity-2)>,\n",
       " <Op (pick-up truck-1 city-1-loc-2 package-1 capacity-0 capacity-1)>,\n",
       " <Op (pick-up truck-1 city-1-loc-2 package-1 capacity-2 capacity-3)>,\n",
       " <Op (pick-up truck-1 city-1-loc-2 package-1 capacity-3 capacity-4)>,\n",
       " <Op (pick-up truck-1 city-1-loc-2 package-2 capacity-1 capacity-2)>,\n",
       " <Op (pick-up truck-1 city-1-loc-2 package-2 capacity-0 capacity-1)>,\n",
       " <Op (pick-up truck-1 city-1-loc-2 package-2 capacity-2 capacity-3)>,\n",
       " <Op (pick-up truck-1 city-1-loc-2 package-2 capacity-3 capacity-4)>,\n",
       " <Op (pick-up truck-1 city-1-loc-3 package-1 capacity-1 capacity-2)>,\n",
       " <Op (pick-up truck-1 city-1-loc-3 package-1 capacity-0 capacity-1)>,\n",
       " <Op (pick-up truck-1 city-1-loc-3 package-1 capacity-2 capacity-3)>,\n",
       " <Op (pick-up truck-1 city-1-loc-3 package-1 capacity-3 capacity-4)>,\n",
       " <Op (pick-up truck-1 city-1-loc-3 package-2 capacity-1 capacity-2)>,\n",
       " <Op (pick-up truck-1 city-1-loc-3 package-2 capacity-0 capacity-1)>,\n",
       " <Op (pick-up truck-1 city-1-loc-3 package-2 capacity-2 capacity-3)>,\n",
       " <Op (pick-up truck-1 city-1-loc-3 package-2 capacity-3 capacity-4)>,\n",
       " <Op (pick-up truck-1 city-2-loc-1 package-1 capacity-1 capacity-2)>,\n",
       " <Op (pick-up truck-1 city-2-loc-1 package-1 capacity-0 capacity-1)>,\n",
       " <Op (pick-up truck-1 city-2-loc-1 package-1 capacity-2 capacity-3)>,\n",
       " <Op (pick-up truck-1 city-2-loc-1 package-1 capacity-3 capacity-4)>,\n",
       " <Op (pick-up truck-1 city-2-loc-1 package-2 capacity-1 capacity-2)>,\n",
       " <Op (pick-up truck-1 city-2-loc-1 package-2 capacity-0 capacity-1)>,\n",
       " <Op (pick-up truck-1 city-2-loc-1 package-2 capacity-2 capacity-3)>,\n",
       " <Op (pick-up truck-1 city-2-loc-1 package-2 capacity-3 capacity-4)>,\n",
       " <Op (pick-up truck-1 city-2-loc-3 package-1 capacity-1 capacity-2)>,\n",
       " <Op (pick-up truck-1 city-2-loc-3 package-1 capacity-0 capacity-1)>,\n",
       " <Op (pick-up truck-1 city-2-loc-3 package-1 capacity-2 capacity-3)>,\n",
       " <Op (pick-up truck-1 city-2-loc-3 package-1 capacity-3 capacity-4)>,\n",
       " <Op (pick-up truck-1 city-2-loc-3 package-2 capacity-1 capacity-2)>,\n",
       " <Op (pick-up truck-1 city-2-loc-3 package-2 capacity-0 capacity-1)>,\n",
       " <Op (pick-up truck-1 city-2-loc-3 package-2 capacity-2 capacity-3)>,\n",
       " <Op (pick-up truck-1 city-2-loc-3 package-2 capacity-3 capacity-4)>,\n",
       " <Op (pick-up truck-1 city-1-loc-1 package-1 capacity-1 capacity-2)>,\n",
       " <Op (pick-up truck-1 city-1-loc-1 package-1 capacity-0 capacity-1)>,\n",
       " <Op (pick-up truck-1 city-1-loc-1 package-1 capacity-2 capacity-3)>,\n",
       " <Op (pick-up truck-1 city-1-loc-1 package-1 capacity-3 capacity-4)>,\n",
       " <Op (pick-up truck-1 city-1-loc-1 package-2 capacity-1 capacity-2)>,\n",
       " <Op (pick-up truck-1 city-1-loc-1 package-2 capacity-0 capacity-1)>,\n",
       " <Op (pick-up truck-1 city-1-loc-1 package-2 capacity-2 capacity-3)>,\n",
       " <Op (pick-up truck-1 city-1-loc-1 package-2 capacity-3 capacity-4)>,\n",
       " <Op (pick-up truck-2 city-2-loc-2 package-1 capacity-1 capacity-2)>,\n",
       " <Op (pick-up truck-2 city-2-loc-2 package-1 capacity-0 capacity-1)>,\n",
       " <Op (pick-up truck-2 city-2-loc-2 package-1 capacity-2 capacity-3)>,\n",
       " <Op (pick-up truck-2 city-2-loc-2 package-1 capacity-3 capacity-4)>,\n",
       " <Op (pick-up truck-2 city-2-loc-2 package-2 capacity-1 capacity-2)>,\n",
       " <Op (pick-up truck-2 city-2-loc-2 package-2 capacity-0 capacity-1)>,\n",
       " <Op (pick-up truck-2 city-2-loc-2 package-2 capacity-2 capacity-3)>,\n",
       " <Op (pick-up truck-2 city-2-loc-2 package-2 capacity-3 capacity-4)>,\n",
       " <Op (pick-up truck-2 city-1-loc-2 package-1 capacity-1 capacity-2)>,\n",
       " <Op (pick-up truck-2 city-1-loc-2 package-1 capacity-0 capacity-1)>,\n",
       " <Op (pick-up truck-2 city-1-loc-2 package-1 capacity-2 capacity-3)>,\n",
       " <Op (pick-up truck-2 city-1-loc-2 package-1 capacity-3 capacity-4)>,\n",
       " <Op (pick-up truck-2 city-1-loc-2 package-2 capacity-1 capacity-2)>,\n",
       " <Op (pick-up truck-2 city-1-loc-2 package-2 capacity-0 capacity-1)>,\n",
       " <Op (pick-up truck-2 city-1-loc-2 package-2 capacity-2 capacity-3)>,\n",
       " <Op (pick-up truck-2 city-1-loc-2 package-2 capacity-3 capacity-4)>,\n",
       " <Op (pick-up truck-2 city-1-loc-3 package-1 capacity-1 capacity-2)>,\n",
       " <Op (pick-up truck-2 city-1-loc-3 package-1 capacity-0 capacity-1)>,\n",
       " <Op (pick-up truck-2 city-1-loc-3 package-1 capacity-2 capacity-3)>,\n",
       " <Op (pick-up truck-2 city-1-loc-3 package-1 capacity-3 capacity-4)>,\n",
       " <Op (pick-up truck-2 city-1-loc-3 package-2 capacity-1 capacity-2)>,\n",
       " <Op (pick-up truck-2 city-1-loc-3 package-2 capacity-0 capacity-1)>,\n",
       " <Op (pick-up truck-2 city-1-loc-3 package-2 capacity-2 capacity-3)>,\n",
       " <Op (pick-up truck-2 city-1-loc-3 package-2 capacity-3 capacity-4)>,\n",
       " <Op (pick-up truck-2 city-2-loc-1 package-1 capacity-1 capacity-2)>,\n",
       " <Op (pick-up truck-2 city-2-loc-1 package-1 capacity-0 capacity-1)>,\n",
       " <Op (pick-up truck-2 city-2-loc-1 package-1 capacity-2 capacity-3)>,\n",
       " <Op (pick-up truck-2 city-2-loc-1 package-1 capacity-3 capacity-4)>,\n",
       " <Op (pick-up truck-2 city-2-loc-1 package-2 capacity-1 capacity-2)>,\n",
       " <Op (pick-up truck-2 city-2-loc-1 package-2 capacity-0 capacity-1)>,\n",
       " <Op (pick-up truck-2 city-2-loc-1 package-2 capacity-2 capacity-3)>,\n",
       " <Op (pick-up truck-2 city-2-loc-1 package-2 capacity-3 capacity-4)>,\n",
       " <Op (pick-up truck-2 city-2-loc-3 package-1 capacity-1 capacity-2)>,\n",
       " <Op (pick-up truck-2 city-2-loc-3 package-1 capacity-0 capacity-1)>,\n",
       " <Op (pick-up truck-2 city-2-loc-3 package-1 capacity-2 capacity-3)>,\n",
       " <Op (pick-up truck-2 city-2-loc-3 package-1 capacity-3 capacity-4)>,\n",
       " <Op (pick-up truck-2 city-2-loc-3 package-2 capacity-1 capacity-2)>,\n",
       " <Op (pick-up truck-2 city-2-loc-3 package-2 capacity-0 capacity-1)>,\n",
       " <Op (pick-up truck-2 city-2-loc-3 package-2 capacity-2 capacity-3)>,\n",
       " <Op (pick-up truck-2 city-2-loc-3 package-2 capacity-3 capacity-4)>,\n",
       " <Op (pick-up truck-2 city-1-loc-1 package-1 capacity-1 capacity-2)>,\n",
       " <Op (pick-up truck-2 city-1-loc-1 package-1 capacity-0 capacity-1)>,\n",
       " <Op (pick-up truck-2 city-1-loc-1 package-1 capacity-2 capacity-3)>,\n",
       " <Op (pick-up truck-2 city-1-loc-1 package-1 capacity-3 capacity-4)>,\n",
       " <Op (pick-up truck-2 city-1-loc-1 package-2 capacity-1 capacity-2)>,\n",
       " <Op (pick-up truck-2 city-1-loc-1 package-2 capacity-0 capacity-1)>,\n",
       " <Op (pick-up truck-2 city-1-loc-1 package-2 capacity-2 capacity-3)>,\n",
       " <Op (pick-up truck-2 city-1-loc-1 package-2 capacity-3 capacity-4)>,\n",
       " <Op (drop truck-1 city-2-loc-2 package-1 capacity-1 capacity-2)>,\n",
       " <Op (drop truck-1 city-2-loc-2 package-1 capacity-0 capacity-1)>,\n",
       " <Op (drop truck-1 city-2-loc-2 package-1 capacity-2 capacity-3)>,\n",
       " <Op (drop truck-1 city-2-loc-2 package-1 capacity-3 capacity-4)>,\n",
       " <Op (drop truck-1 city-2-loc-2 package-2 capacity-1 capacity-2)>,\n",
       " <Op (drop truck-1 city-2-loc-2 package-2 capacity-0 capacity-1)>,\n",
       " <Op (drop truck-1 city-2-loc-2 package-2 capacity-2 capacity-3)>,\n",
       " <Op (drop truck-1 city-2-loc-2 package-2 capacity-3 capacity-4)>,\n",
       " <Op (drop truck-1 city-1-loc-2 package-1 capacity-1 capacity-2)>,\n",
       " <Op (drop truck-1 city-1-loc-2 package-1 capacity-0 capacity-1)>,\n",
       " <Op (drop truck-1 city-1-loc-2 package-1 capacity-2 capacity-3)>,\n",
       " <Op (drop truck-1 city-1-loc-2 package-1 capacity-3 capacity-4)>,\n",
       " <Op (drop truck-1 city-1-loc-2 package-2 capacity-1 capacity-2)>,\n",
       " <Op (drop truck-1 city-1-loc-2 package-2 capacity-0 capacity-1)>,\n",
       " <Op (drop truck-1 city-1-loc-2 package-2 capacity-2 capacity-3)>,\n",
       " <Op (drop truck-1 city-1-loc-2 package-2 capacity-3 capacity-4)>,\n",
       " <Op (drop truck-1 city-1-loc-3 package-1 capacity-1 capacity-2)>,\n",
       " <Op (drop truck-1 city-1-loc-3 package-1 capacity-0 capacity-1)>,\n",
       " <Op (drop truck-1 city-1-loc-3 package-1 capacity-2 capacity-3)>,\n",
       " <Op (drop truck-1 city-1-loc-3 package-1 capacity-3 capacity-4)>,\n",
       " <Op (drop truck-1 city-1-loc-3 package-2 capacity-1 capacity-2)>,\n",
       " <Op (drop truck-1 city-1-loc-3 package-2 capacity-0 capacity-1)>,\n",
       " <Op (drop truck-1 city-1-loc-3 package-2 capacity-2 capacity-3)>,\n",
       " <Op (drop truck-1 city-1-loc-3 package-2 capacity-3 capacity-4)>,\n",
       " <Op (drop truck-1 city-2-loc-1 package-1 capacity-1 capacity-2)>,\n",
       " <Op (drop truck-1 city-2-loc-1 package-1 capacity-0 capacity-1)>,\n",
       " <Op (drop truck-1 city-2-loc-1 package-1 capacity-2 capacity-3)>,\n",
       " <Op (drop truck-1 city-2-loc-1 package-1 capacity-3 capacity-4)>,\n",
       " <Op (drop truck-1 city-2-loc-1 package-2 capacity-1 capacity-2)>,\n",
       " <Op (drop truck-1 city-2-loc-1 package-2 capacity-0 capacity-1)>,\n",
       " <Op (drop truck-1 city-2-loc-1 package-2 capacity-2 capacity-3)>,\n",
       " <Op (drop truck-1 city-2-loc-1 package-2 capacity-3 capacity-4)>,\n",
       " <Op (drop truck-1 city-2-loc-3 package-1 capacity-1 capacity-2)>,\n",
       " <Op (drop truck-1 city-2-loc-3 package-1 capacity-0 capacity-1)>,\n",
       " <Op (drop truck-1 city-2-loc-3 package-1 capacity-2 capacity-3)>,\n",
       " <Op (drop truck-1 city-2-loc-3 package-1 capacity-3 capacity-4)>,\n",
       " <Op (drop truck-1 city-2-loc-3 package-2 capacity-1 capacity-2)>,\n",
       " <Op (drop truck-1 city-2-loc-3 package-2 capacity-0 capacity-1)>,\n",
       " <Op (drop truck-1 city-2-loc-3 package-2 capacity-2 capacity-3)>,\n",
       " <Op (drop truck-1 city-2-loc-3 package-2 capacity-3 capacity-4)>,\n",
       " <Op (drop truck-1 city-1-loc-1 package-1 capacity-1 capacity-2)>,\n",
       " <Op (drop truck-1 city-1-loc-1 package-1 capacity-0 capacity-1)>,\n",
       " <Op (drop truck-1 city-1-loc-1 package-1 capacity-2 capacity-3)>,\n",
       " <Op (drop truck-1 city-1-loc-1 package-1 capacity-3 capacity-4)>,\n",
       " <Op (drop truck-1 city-1-loc-1 package-2 capacity-1 capacity-2)>,\n",
       " <Op (drop truck-1 city-1-loc-1 package-2 capacity-0 capacity-1)>,\n",
       " <Op (drop truck-1 city-1-loc-1 package-2 capacity-2 capacity-3)>,\n",
       " <Op (drop truck-1 city-1-loc-1 package-2 capacity-3 capacity-4)>,\n",
       " <Op (drop truck-2 city-2-loc-2 package-1 capacity-1 capacity-2)>,\n",
       " <Op (drop truck-2 city-2-loc-2 package-1 capacity-0 capacity-1)>,\n",
       " <Op (drop truck-2 city-2-loc-2 package-1 capacity-2 capacity-3)>,\n",
       " <Op (drop truck-2 city-2-loc-2 package-1 capacity-3 capacity-4)>,\n",
       " <Op (drop truck-2 city-2-loc-2 package-2 capacity-1 capacity-2)>,\n",
       " <Op (drop truck-2 city-2-loc-2 package-2 capacity-0 capacity-1)>,\n",
       " <Op (drop truck-2 city-2-loc-2 package-2 capacity-2 capacity-3)>,\n",
       " <Op (drop truck-2 city-2-loc-2 package-2 capacity-3 capacity-4)>,\n",
       " <Op (drop truck-2 city-1-loc-2 package-1 capacity-1 capacity-2)>,\n",
       " <Op (drop truck-2 city-1-loc-2 package-1 capacity-0 capacity-1)>,\n",
       " <Op (drop truck-2 city-1-loc-2 package-1 capacity-2 capacity-3)>,\n",
       " <Op (drop truck-2 city-1-loc-2 package-1 capacity-3 capacity-4)>,\n",
       " <Op (drop truck-2 city-1-loc-2 package-2 capacity-1 capacity-2)>,\n",
       " <Op (drop truck-2 city-1-loc-2 package-2 capacity-0 capacity-1)>,\n",
       " <Op (drop truck-2 city-1-loc-2 package-2 capacity-2 capacity-3)>,\n",
       " <Op (drop truck-2 city-1-loc-2 package-2 capacity-3 capacity-4)>,\n",
       " <Op (drop truck-2 city-1-loc-3 package-1 capacity-1 capacity-2)>,\n",
       " <Op (drop truck-2 city-1-loc-3 package-1 capacity-0 capacity-1)>,\n",
       " <Op (drop truck-2 city-1-loc-3 package-1 capacity-2 capacity-3)>,\n",
       " <Op (drop truck-2 city-1-loc-3 package-1 capacity-3 capacity-4)>,\n",
       " <Op (drop truck-2 city-1-loc-3 package-2 capacity-1 capacity-2)>,\n",
       " <Op (drop truck-2 city-1-loc-3 package-2 capacity-0 capacity-1)>,\n",
       " <Op (drop truck-2 city-1-loc-3 package-2 capacity-2 capacity-3)>,\n",
       " <Op (drop truck-2 city-1-loc-3 package-2 capacity-3 capacity-4)>,\n",
       " <Op (drop truck-2 city-2-loc-1 package-1 capacity-1 capacity-2)>,\n",
       " <Op (drop truck-2 city-2-loc-1 package-1 capacity-0 capacity-1)>,\n",
       " <Op (drop truck-2 city-2-loc-1 package-1 capacity-2 capacity-3)>,\n",
       " <Op (drop truck-2 city-2-loc-1 package-1 capacity-3 capacity-4)>,\n",
       " <Op (drop truck-2 city-2-loc-1 package-2 capacity-1 capacity-2)>,\n",
       " <Op (drop truck-2 city-2-loc-1 package-2 capacity-0 capacity-1)>,\n",
       " <Op (drop truck-2 city-2-loc-1 package-2 capacity-2 capacity-3)>,\n",
       " <Op (drop truck-2 city-2-loc-1 package-2 capacity-3 capacity-4)>,\n",
       " <Op (drop truck-2 city-2-loc-3 package-1 capacity-1 capacity-2)>,\n",
       " <Op (drop truck-2 city-2-loc-3 package-1 capacity-0 capacity-1)>,\n",
       " <Op (drop truck-2 city-2-loc-3 package-1 capacity-2 capacity-3)>,\n",
       " <Op (drop truck-2 city-2-loc-3 package-1 capacity-3 capacity-4)>,\n",
       " <Op (drop truck-2 city-2-loc-3 package-2 capacity-1 capacity-2)>,\n",
       " <Op (drop truck-2 city-2-loc-3 package-2 capacity-0 capacity-1)>,\n",
       " <Op (drop truck-2 city-2-loc-3 package-2 capacity-2 capacity-3)>,\n",
       " <Op (drop truck-2 city-2-loc-3 package-2 capacity-3 capacity-4)>,\n",
       " <Op (drop truck-2 city-1-loc-1 package-1 capacity-1 capacity-2)>,\n",
       " <Op (drop truck-2 city-1-loc-1 package-1 capacity-0 capacity-1)>,\n",
       " <Op (drop truck-2 city-1-loc-1 package-1 capacity-2 capacity-3)>,\n",
       " <Op (drop truck-2 city-1-loc-1 package-1 capacity-3 capacity-4)>,\n",
       " <Op (drop truck-2 city-1-loc-1 package-2 capacity-1 capacity-2)>,\n",
       " <Op (drop truck-2 city-1-loc-1 package-2 capacity-0 capacity-1)>,\n",
       " <Op (drop truck-2 city-1-loc-1 package-2 capacity-2 capacity-3)>,\n",
       " <Op (drop truck-2 city-1-loc-1 package-2 capacity-3 capacity-4)>]"
      ]
     },
     "execution_count": 266,
     "metadata": {},
     "output_type": "execute_result"
    }
   ],
   "source": [
    "task.operators"
   ]
  },
  {
   "cell_type": "markdown",
   "metadata": {},
   "source": [
    "# HEURISTIC"
   ]
  },
  {
   "cell_type": "code",
   "execution_count": 267,
   "metadata": {},
   "outputs": [],
   "source": [
    "from pyperplan import get_heuristics, _get_heuristic_name"
   ]
  },
  {
   "cell_type": "code",
   "execution_count": 268,
   "metadata": {},
   "outputs": [],
   "source": [
    "HEURISTICS = {_get_heuristic_name(heur): heur for heur in get_heuristics()}"
   ]
  },
  {
   "cell_type": "code",
   "execution_count": 269,
   "metadata": {},
   "outputs": [
    {
     "data": {
      "text/plain": [
       "{'lmcut': lm_cut.LmCutHeuristic,\n",
       " 'blind': blind.BlindHeuristic,\n",
       " 'hadd': relaxation.hAddHeuristic,\n",
       " 'hff': relaxation.hFFHeuristic,\n",
       " 'hmax': relaxation.hMaxHeuristic,\n",
       " 'hsa': relaxation.hSAHeuristic,\n",
       " 'valueiteration': value_iteration_heuristic.ValueIterationHeuristic,\n",
       " 'node2vec': node2vec.Node2VecHeuristic,\n",
       " 'landmark': landmarks.LandmarkHeuristic}"
      ]
     },
     "execution_count": 269,
     "metadata": {},
     "output_type": "execute_result"
    }
   ],
   "source": [
    "# These are just heuristic classes\n",
    "HEURISTICS"
   ]
  },
  {
   "cell_type": "code",
   "execution_count": 270,
   "metadata": {},
   "outputs": [],
   "source": [
    "# Defines the heuristic for this task? \n",
    "h = HEURISTICS['hff'](task)"
   ]
  },
  {
   "cell_type": "code",
   "execution_count": 271,
   "metadata": {},
   "outputs": [
    {
     "data": {
      "text/plain": [
       "<relaxation.hFFHeuristic at 0x7f13ab665da0>"
      ]
     },
     "execution_count": 271,
     "metadata": {},
     "output_type": "execute_result"
    }
   ],
   "source": [
    "h"
   ]
  },
  {
   "cell_type": "markdown",
   "metadata": {},
   "source": [
    "# SEARCH"
   ]
  },
  {
   "cell_type": "code",
   "execution_count": 272,
   "metadata": {},
   "outputs": [],
   "source": [
    "from pyperplan import search"
   ]
  },
  {
   "cell_type": "code",
   "execution_count": 273,
   "metadata": {},
   "outputs": [],
   "source": [
    "SEARCHES = {\n",
    "    'astar': search.astar_search,\n",
    "    'wastar': search.weighted_astar_search,\n",
    "    'gbf': search.greedy_best_first_search,\n",
    "    'bfs': search.breadth_first_search,\n",
    "    'ehs': search.enforced_hillclimbing_search,\n",
    "    'ids': search.iterative_deepening_search,\n",
    "    'sat': search.sat_solve,\n",
    "}"
   ]
  },
  {
   "cell_type": "code",
   "execution_count": 274,
   "metadata": {},
   "outputs": [
    {
     "name": "stdout",
     "output_type": "stream",
     "text": [
      "Num expansions: 0\n"
     ]
    }
   ],
   "source": [
    "solution = SEARCHES['astar'](task, h)"
   ]
  },
  {
   "cell_type": "code",
   "execution_count": 275,
   "metadata": {},
   "outputs": [
    {
     "data": {
      "text/plain": [
       "([<Op (drive truck-1 city-2-loc-2 city-2-loc-3)>,\n",
       "  <Op (drive truck-1 city-2-loc-3 city-1-loc-1)>,\n",
       "  <Op (drive truck-1 city-1-loc-1 city-1-loc-3)>,\n",
       "  <Op (drive truck-1 city-1-loc-3 city-1-loc-2)>,\n",
       "  <Op (pick-up truck-1 city-1-loc-2 package-1 capacity-2 capacity-3)>,\n",
       "  <Op (pick-up truck-1 city-1-loc-2 package-2 capacity-1 capacity-2)>,\n",
       "  <Op (drive truck-1 city-1-loc-2 city-1-loc-3)>,\n",
       "  <Op (drive truck-1 city-1-loc-3 city-1-loc-1)>,\n",
       "  <Op (drive truck-1 city-1-loc-1 city-2-loc-3)>,\n",
       "  <Op (drop truck-1 city-2-loc-3 package-1 capacity-1 capacity-2)>,\n",
       "  <Op (drop truck-1 city-2-loc-3 package-2 capacity-2 capacity-3)>],\n",
       " 25)"
      ]
     },
     "execution_count": 275,
     "metadata": {},
     "output_type": "execute_result"
    }
   ],
   "source": [
    "solution"
   ]
  },
  {
   "cell_type": "code",
   "execution_count": 276,
   "metadata": {},
   "outputs": [
    {
     "ename": "AttributeError",
     "evalue": "'list' object has no attribute 'name'",
     "output_type": "error",
     "traceback": [
      "\u001b[0;31m---------------------------------------------------------------------------\u001b[0m",
      "\u001b[0;31mAttributeError\u001b[0m                            Traceback (most recent call last)",
      "\u001b[0;32m<ipython-input-276-c404e70055db>\u001b[0m in \u001b[0;36m<module>\u001b[0;34m()\u001b[0m\n\u001b[0;32m----> 1\u001b[0;31m \u001b[0;34m[\u001b[0m\u001b[0mop\u001b[0m\u001b[0;34m.\u001b[0m\u001b[0mname\u001b[0m \u001b[0;32mfor\u001b[0m \u001b[0mop\u001b[0m \u001b[0;32min\u001b[0m \u001b[0msolution\u001b[0m\u001b[0;34m]\u001b[0m\u001b[0;34m\u001b[0m\u001b[0m\n\u001b[0m",
      "\u001b[0;32m<ipython-input-276-c404e70055db>\u001b[0m in \u001b[0;36m<listcomp>\u001b[0;34m(.0)\u001b[0m\n\u001b[0;32m----> 1\u001b[0;31m \u001b[0;34m[\u001b[0m\u001b[0mop\u001b[0m\u001b[0;34m.\u001b[0m\u001b[0mname\u001b[0m \u001b[0;32mfor\u001b[0m \u001b[0mop\u001b[0m \u001b[0;32min\u001b[0m \u001b[0msolution\u001b[0m\u001b[0;34m]\u001b[0m\u001b[0;34m\u001b[0m\u001b[0m\n\u001b[0m",
      "\u001b[0;31mAttributeError\u001b[0m: 'list' object has no attribute 'name'"
     ]
    }
   ],
   "source": [
    "[op.name for op in solution]"
   ]
  },
  {
   "cell_type": "code",
   "execution_count": null,
   "metadata": {},
   "outputs": [],
   "source": []
  },
  {
   "cell_type": "code",
   "execution_count": null,
   "metadata": {},
   "outputs": [],
   "source": []
  },
  {
   "cell_type": "markdown",
   "metadata": {},
   "source": [
    "# VALIDATE SOLUTION"
   ]
  },
  {
   "cell_type": "code",
   "execution_count": 40,
   "metadata": {},
   "outputs": [],
   "source": [
    "from pyperplan import _write_solution\n",
    "import subprocess"
   ]
  },
  {
   "cell_type": "code",
   "execution_count": 41,
   "metadata": {},
   "outputs": [],
   "source": [
    "_write_solution(solution,'testsolution.txt')"
   ]
  },
  {
   "cell_type": "code",
   "execution_count": 42,
   "metadata": {},
   "outputs": [],
   "source": [
    "exitcode = subprocess.call(['./validate', 'testdomain.pddl','testinstance.pddl','testsolution.txt'], stdout=subprocess.PIPE)"
   ]
  },
  {
   "cell_type": "code",
   "execution_count": 43,
   "metadata": {},
   "outputs": [
    {
     "name": "stdout",
     "output_type": "stream",
     "text": [
      "Plan correct!\n"
     ]
    }
   ],
   "source": [
    "if exitcode == 0:\n",
    "    print('Plan correct!')\n",
    "else:\n",
    "    print('Plan NOT correct!')"
   ]
  },
  {
   "cell_type": "code",
   "execution_count": null,
   "metadata": {},
   "outputs": [],
   "source": []
  }
 ],
 "metadata": {
  "kernelspec": {
   "display_name": "Python 3",
   "language": "python",
   "name": "python3"
  },
  "language_info": {
   "codemirror_mode": {
    "name": "ipython",
    "version": 3
   },
   "file_extension": ".py",
   "mimetype": "text/x-python",
   "name": "python",
   "nbconvert_exporter": "python",
   "pygments_lexer": "ipython3",
   "version": "3.6.5"
  }
 },
 "nbformat": 4,
 "nbformat_minor": 2
}
