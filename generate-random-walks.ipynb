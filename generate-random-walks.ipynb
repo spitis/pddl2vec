{
 "cells": [
  {
   "cell_type": "code",
   "execution_count": 1,
   "metadata": {},
   "outputs": [],
   "source": [
    "from pyperplan import _parse, _ground\n",
    "import numpy as np\n",
    "from embedding import NaiveEmb\n",
    "from random_walk_generator import RandomWalkGenerator"
   ]
  },
  {
   "cell_type": "code",
   "execution_count": 2,
   "metadata": {},
   "outputs": [],
   "source": [
    "problem = _parse(domain_file='pddl_files/modded_transport/6/domain.pddl',\n",
    "                 problem_file='pddl_files/modded_transport/6/p01.pddl')\n",
    "task = _ground(problem)"
   ]
  },
  {
   "cell_type": "code",
   "execution_count": 3,
   "metadata": {},
   "outputs": [
    {
     "name": "stdout",
     "output_type": "stream",
     "text": [
      "0\n",
      "3\n",
      "7\n",
      "10\n",
      "16\n",
      "22\n",
      "25\n",
      "30\n",
      "32\n",
      "37\n",
      "40\n",
      "41\n",
      "43\n",
      "47\n",
      "50\n",
      "50\n",
      "49\n",
      "50\n",
      "50\n",
      "50\n",
      "Used 18 different starting states\n"
     ]
    }
   ],
   "source": [
    "# Get an instance that can sample trajectories from a task.\n",
    "walk_generator = RandomWalkGenerator(task)\n",
    "\n",
    "# Sample a number of random walks.\n",
    "walks = []\n",
    "for walk_id in range(20):\n",
    "    print(len(walk_generator.reservoir))\n",
    "    walk = walk_generator.sample_walk()\n",
    "    walks.append(walk)\n",
    "    \n",
    "# Each walk should have started from a different state.\n",
    "starting_states = set()\n",
    "for walk in walks:\n",
    "    starting_states.add(walk[0])\n",
    "print('Used {} different starting states in {} walks'.format(len(starting_states)))"
   ]
  },
  {
   "cell_type": "code",
   "execution_count": null,
   "metadata": {},
   "outputs": [],
   "source": []
  },
  {
   "cell_type": "code",
   "execution_count": null,
   "metadata": {},
   "outputs": [],
   "source": []
  }
 ],
 "metadata": {
  "kernelspec": {
   "display_name": "Python 3",
   "language": "python",
   "name": "python3"
  },
  "language_info": {
   "codemirror_mode": {
    "name": "ipython",
    "version": 3
   },
   "file_extension": ".py",
   "mimetype": "text/x-python",
   "name": "python",
   "nbconvert_exporter": "python",
   "pygments_lexer": "ipython3",
   "version": "3.6.7"
  }
 },
 "nbformat": 4,
 "nbformat_minor": 2
}
